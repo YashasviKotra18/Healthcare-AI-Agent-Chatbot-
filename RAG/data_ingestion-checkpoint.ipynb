{
 "cells": [
  {
   "cell_type": "raw",
   "id": "3e5d9f88-136d-480a-8c3c-8c8a03b65eb9",
   "metadata": {},
   "source": [
    "RAW DATA INGESTION FROM LOCAL TO GCP BUCKET\n",
    "\n",
    "created a service account from IAM service , from GCP \n",
    "\n",
    "for loading the raw files from local to gcp bucket,\n",
    "\n",
    "use the credetials from service account , in local jupyter notebook where the files will be dumped \n",
    "\n",
    "run the script for loading the files from loacl folder to loading it to GCP bucket (raw_dataset_genai)"
   ]
  },
  {
   "cell_type": "code",
   "execution_count": 12,
   "id": "b15ee0f3-9f7f-4f2a-9872-3d8836398349",
   "metadata": {},
   "outputs": [],
   "source": [
    "# pip install jupyter_scheduler"
   ]
  },
  {
   "cell_type": "markdown",
   "id": "99c28919-b630-4bee-a125-ad2695c3dffe",
   "metadata": {},
   "source": [
    "### Data Ingestion Process Report\n",
    "\n",
    "#### Objective\n",
    "This outlines the data ingestion process designed for a data engineering pipeline that collects raw datasets from multiple source directories and ingests them into Google Cloud Storage (GCS). The ingestion process prepares data for subsequent data processing tasks in LLM MODEL BUILDING, including dataset partitioning for training, validation, and testing.\n",
    "\n",
    "#### Process Overview\n",
    "The data ingestion script automates the collection, validation, and storage of raw datasets from specified local directories into a GCS bucket. This process serves as the foundational step in data engineering, ensuring that data is readily accessible and structured within the cloud environment for further analysis and machine learning tasks.\n",
    "\n",
    "The ingestion process encompasses the following key steps:\n",
    "\n",
    "1. **Configuration and Authentication**  \n",
    "   - The ingestion pipeline begins by establishing a connection to GCS using a service account credential. This setup provides secure and authorized access to the cloud storage, allowing files to be uploaded without interruption.\n",
    "   - The service account JSON file (`gc_key.json`) is loaded, and a `storage.Client` is initialized to access the specified GCS bucket.\n",
    "\n",
    "2. **Directory and File Validation**  \n",
    "   - Each source directory and its corresponding blob prefix (GCS folder path) are paired. For each directory:\n",
    "     - The script verifies the directory's existence.\n",
    "     - It then lists all files in the directory and confirms whether files are present. This validation ensures that directories are not processed if they are empty, improving efficiency.\n",
    "   - A message is logged if no files are found in a directory, and the script proceeds to the next directory.\n",
    "\n",
    "3. **File Upload and Cloud Storage Organization**  \n",
    "   - For each file in a valid directory, a blob path is created within the GCS bucket using the specified prefix. This organizes the files in GCS, creating a well-structured cloud storage system.\n",
    "   - Each file is uploaded to its designated location in GCS. The script logs each successful upload, providing traceability and transparency in data ingestion.\n",
    "\n",
    "4. **File Deletion for Storage Management**  \n",
    "   - After each successful upload, the local file is deleted. This step helps manage storage on the local machine, retaining only the files that have not been uploaded. It also prevents duplication and ensures that local storage is freed up for future data ingestion tasks.\n",
    "   - Deletion is performed only if the upload is successful, adding a level of robustness to prevent accidental data loss.\n",
    "\n",
    "#### Logging and Error Handling\n",
    "The ingestion process incorporates comprehensive logging and error handling to maintain a smooth pipeline:\n",
    "- **Logging**: Each key step is logged, including successful uploads, file deletions, skipped directories, and any errors encountered.\n",
    "- **Error Handling**: Exceptions are caught and logged, especially during cloud client initialization and file uploads. This ensures that the process continues smoothly without stopping due to minor issues.\n",
    "\n",
    "\n",
    "#### Conclusion\n",
    "This data ingestion process efficiently collects, validates, and ingests raw datasets from local storage to cloud storage. With its built-in logging, error handling, and file management, this pipeline sets the foundation for a well-organized, scalable data engineering environment. "
   ]
  },
  {
   "cell_type": "code",
   "execution_count": 13,
   "id": "048d6c59-c6a3-43f0-b01a-4deaaf1ce650",
   "metadata": {},
   "outputs": [
    {
     "name": "stdout",
     "output_type": "stream",
     "text": [
      "Defaulting to user installation because normal site-packages is not writeable\n",
      "Requirement already satisfied: google-cloud-storage in c:\\users\\harrpoli\\appdata\\roaming\\python\\python312\\site-packages (3.1.0)\n",
      "Requirement already satisfied: google-auth<3.0dev,>=2.26.1 in c:\\users\\harrpoli\\appdata\\roaming\\python\\python312\\site-packages (from google-cloud-storage) (2.38.0)\n",
      "Requirement already satisfied: google-api-core<3.0.0dev,>=2.15.0 in c:\\users\\harrpoli\\appdata\\roaming\\python\\python312\\site-packages (from google-cloud-storage) (2.24.1)\n",
      "Requirement already satisfied: google-cloud-core<3.0dev,>=2.4.2 in c:\\users\\harrpoli\\appdata\\roaming\\python\\python312\\site-packages (from google-cloud-storage) (2.4.2)\n",
      "Requirement already satisfied: google-resumable-media>=2.7.2 in c:\\users\\harrpoli\\appdata\\roaming\\python\\python312\\site-packages (from google-cloud-storage) (2.7.2)\n",
      "Requirement already satisfied: requests<3.0.0dev,>=2.18.0 in c:\\program files\\arcgis\\anaconda\\lib\\site-packages (from google-cloud-storage) (2.32.2)\n",
      "Requirement already satisfied: google-crc32c<2.0dev,>=1.0 in c:\\users\\harrpoli\\appdata\\roaming\\python\\python312\\site-packages (from google-cloud-storage) (1.6.0)\n",
      "Requirement already satisfied: googleapis-common-protos<2.0.dev0,>=1.56.2 in c:\\users\\harrpoli\\appdata\\roaming\\python\\python312\\site-packages (from google-api-core<3.0.0dev,>=2.15.0->google-cloud-storage) (1.67.0)\n",
      "Requirement already satisfied: protobuf!=3.20.0,!=3.20.1,!=4.21.0,!=4.21.1,!=4.21.2,!=4.21.3,!=4.21.4,!=4.21.5,<6.0.0.dev0,>=3.19.5 in c:\\users\\harrpoli\\appdata\\roaming\\python\\python312\\site-packages (from google-api-core<3.0.0dev,>=2.15.0->google-cloud-storage) (5.29.3)\n",
      "Requirement already satisfied: proto-plus<2.0.0dev,>=1.22.3 in c:\\users\\harrpoli\\appdata\\roaming\\python\\python312\\site-packages (from google-api-core<3.0.0dev,>=2.15.0->google-cloud-storage) (1.26.0)\n",
      "Requirement already satisfied: cachetools<6.0,>=2.0.0 in c:\\program files\\arcgis\\anaconda\\lib\\site-packages (from google-auth<3.0dev,>=2.26.1->google-cloud-storage) (5.3.3)\n",
      "Requirement already satisfied: pyasn1-modules>=0.2.1 in c:\\program files\\arcgis\\anaconda\\lib\\site-packages (from google-auth<3.0dev,>=2.26.1->google-cloud-storage) (0.2.8)\n",
      "Requirement already satisfied: rsa<5,>=3.1.4 in c:\\users\\harrpoli\\appdata\\roaming\\python\\python312\\site-packages (from google-auth<3.0dev,>=2.26.1->google-cloud-storage) (4.9)\n",
      "Requirement already satisfied: charset-normalizer<4,>=2 in c:\\program files\\arcgis\\anaconda\\lib\\site-packages (from requests<3.0.0dev,>=2.18.0->google-cloud-storage) (2.0.4)\n",
      "Requirement already satisfied: idna<4,>=2.5 in c:\\program files\\arcgis\\anaconda\\lib\\site-packages (from requests<3.0.0dev,>=2.18.0->google-cloud-storage) (3.7)\n",
      "Requirement already satisfied: urllib3<3,>=1.21.1 in c:\\program files\\arcgis\\anaconda\\lib\\site-packages (from requests<3.0.0dev,>=2.18.0->google-cloud-storage) (2.2.2)\n",
      "Requirement already satisfied: certifi>=2017.4.17 in c:\\program files\\arcgis\\anaconda\\lib\\site-packages (from requests<3.0.0dev,>=2.18.0->google-cloud-storage) (2024.6.2)\n",
      "Requirement already satisfied: pyasn1<0.5.0,>=0.4.6 in c:\\program files\\arcgis\\anaconda\\lib\\site-packages (from pyasn1-modules>=0.2.1->google-auth<3.0dev,>=2.26.1->google-cloud-storage) (0.4.8)\n"
     ]
    }
   ],
   "source": [
    "!pip install google-cloud-storage\n"
   ]
  },
  {
   "cell_type": "code",
   "execution_count": null,
   "id": "ccb26c2d-a162-45f4-8be4-5cf4b3144511",
   "metadata": {},
   "outputs": [],
   "source": []
  },
  {
   "cell_type": "code",
   "execution_count": 14,
   "id": "f7dd15da-59c7-4a42-be57-bde8cb005864",
   "metadata": {},
   "outputs": [],
   "source": [
    "# healthcarechatbot-451921-d908cb05ee58.json"
   ]
  },
  {
   "cell_type": "code",
   "execution_count": 15,
   "id": "f3adba2f-2c4c-4a20-a46a-60ae2e1dbc44",
   "metadata": {},
   "outputs": [],
   "source": [
    "import os\n",
    "import logging\n",
    "from google.cloud import storage\n",
    "from google.oauth2 import service_account\n",
    "from datetime import datetime\n"
   ]
  },
  {
   "cell_type": "code",
   "execution_count": 16,
   "id": "05c15f7f-9e5c-4a51-8fc1-70ab5ba3a427",
   "metadata": {},
   "outputs": [],
   "source": [
    "# Setup logging\n",
    "logging.basicConfig(level=logging.INFO, format='%(asctime)s - %(levelname)s - %(message)s')\n",
    "logger = logging.getLogger()"
   ]
  },
  {
   "cell_type": "code",
   "execution_count": 17,
   "id": "e50af77b-5094-489c-9ae7-b59a61dac37f",
   "metadata": {},
   "outputs": [],
   "source": [
    "def upload_files_to_gcs_multiple_sources(bucket_name, local_directories, blob_prefixes):\n",
    "    \"\"\"\n",
    "    Ingests data by uploading files from multiple local directories to respective locations in a GCS bucket.\n",
    "    Includes error handling, logging, and file validations as part of a data engineering pipeline.\n",
    "\n",
    "    Parameters:\n",
    "    - bucket_name (str): The name of the GCS bucket.\n",
    "    - local_directories (list): List of local directories containing files to upload.\n",
    "    - blob_prefixes (list): List of corresponding GCS blob prefixes for each local directory.\n",
    "    \"\"\"\n",
    "\n",
    "    # Path to your service account key file\n",
    "    service_account_path = 'healthcarechatbot-451921-d908cb05ee58.json'  # Replace with your service account JSON path\n",
    "\n",
    "    # Create a credentials object and initialize the GCS client\n",
    "    try:\n",
    "        credentials = service_account.Credentials.from_service_account_file(service_account_path)\n",
    "        storage_client = storage.Client(credentials=credentials)\n",
    "        bucket = storage_client.bucket(bucket_name)\n",
    "        logger.info(\"Google Cloud Storage client initialized.\")\n",
    "    except Exception as e:\n",
    "        logger.error(\"Failed to initialize Google Cloud Storage client.\", exc_info=True)\n",
    "        return\n",
    "\n",
    "    # Check if lists have the same length\n",
    "    if len(local_directories) != len(blob_prefixes):\n",
    "        logger.error(\"The number of local directories and blob prefixes must match.\")\n",
    "        return\n",
    "\n",
    "    # Process each local directory and corresponding blob prefix\n",
    "    for local_directory, blob_prefix in zip(local_directories, blob_prefixes):\n",
    "        logger.info(f\"Processing files from '{local_directory}' to GCS prefix '{blob_prefix}'...\")\n",
    "\n",
    "        # Validate if the directory exists and contains files\n",
    "        if not os.path.isdir(local_directory):\n",
    "            logger.warning(f\"Directory '{local_directory}' does not exist. Skipping.\")\n",
    "            continue\n",
    "\n",
    "        # List files in the directory\n",
    "        files = [f for f in os.listdir(local_directory) if os.path.isfile(os.path.join(local_directory, f))]\n",
    "        if not files:\n",
    "            logger.info(f\"No files found in '{local_directory}'. Skipping to next directory.\")\n",
    "            continue\n",
    "\n",
    "        # Process each file in the directory\n",
    "        for file_name in files:\n",
    "            local_file_path = os.path.join(local_directory, file_name)\n",
    "            blob_path = os.path.join(blob_prefix, file_name)\n",
    "            blob = bucket.blob(blob_path)\n",
    "\n",
    "            try:\n",
    "                # Attempt to upload the file\n",
    "                blob.upload_from_filename(local_file_path)\n",
    "                logger.info(f\"Uploaded '{file_name}' from '{local_directory}' to 'gs://{bucket_name}/{blob_path}'\")\n",
    "\n",
    "                # Optionally, delete the local file after upload (commented out by default)\n",
    "                os.remove(local_file_path)\n",
    "                \n",
    "                logger.info(f\"Deleted local file '{local_file_path}' after upload.\")\n",
    "            except Exception as e:\n",
    "                logger.error(f\"Failed to upload '{file_name}' from '{local_directory}'\", exc_info=True)\n",
    "\n",
    "    logger.info(\"Ingestion process completed.\")\n"
   ]
  },
  {
   "cell_type": "code",
   "execution_count": 18,
   "id": "43052fd7-dda6-4719-95c4-fd62e0c1e075",
   "metadata": {},
   "outputs": [],
   "source": [
    "\n",
    "\n",
    "\n",
    "\n",
    "# Use the function with necessary parameters\n",
    "bucket_name = 'raw_dataset_genai'  # Replace with your GCS bucket name\n",
    "local_directories = [\n",
    "    'clinical_records',  # Replace with actual folder paths\n",
    "    'Journals',\n",
    "    'Research_Papers',\n",
    "    'Textbooks'\n",
    "]\n",
    "blob_prefixes = [\n",
    "    'rag-healthcare-chatbot/medicaldata/clinical_records',  # Replace with corresponding GCS folder paths (or prefixes)\n",
    "    'rag-healthcare-chatbot/medicaldata/Journals',\n",
    "    'rag-healthcare-chatbot/medicaldata/Research_Papers',\n",
    "    'rag-healthcare-chatbot/medicaldata/Textbooks'\n",
    "]\n",
    "\n"
   ]
  },
  {
   "cell_type": "code",
   "execution_count": 19,
   "id": "f23cdba0-7db3-4104-8f78-dab044779444",
   "metadata": {},
   "outputs": [
    {
     "name": "stderr",
     "output_type": "stream",
     "text": [
      "2025-03-01 15:40:07,218 - INFO - Google Cloud Storage client initialized.\n",
      "2025-03-01 15:40:07,219 - INFO - Processing files from 'Desktop/rag_docs/clinical_records' to GCS prefix 'rag-healthcare-chatbot/medicaldata/clinical_records'...\n",
      "2025-03-01 15:40:07,220 - WARNING - Directory 'Desktop/rag_docs/clinical_records' does not exist. Skipping.\n",
      "2025-03-01 15:40:07,221 - INFO - Processing files from 'Desktop/rag_docs/Journals' to GCS prefix 'rag-healthcare-chatbot/medicaldata/Journals'...\n",
      "2025-03-01 15:40:07,223 - WARNING - Directory 'Desktop/rag_docs/Journals' does not exist. Skipping.\n",
      "2025-03-01 15:40:07,224 - INFO - Processing files from 'Desktop/rag_docs/Research_Papers' to GCS prefix 'rag-healthcare-chatbot/medicaldata/Research_Papers'...\n",
      "2025-03-01 15:40:07,225 - WARNING - Directory 'Desktop/rag_docs/Research_Papers' does not exist. Skipping.\n",
      "2025-03-01 15:40:07,226 - INFO - Processing files from 'Desktop/rag_docs/Textbooks' to GCS prefix 'rag-healthcare-chatbot/medicaldata/Textbooks'...\n",
      "2025-03-01 15:40:07,227 - WARNING - Directory 'Desktop/rag_docs/Textbooks' does not exist. Skipping.\n",
      "2025-03-01 15:40:07,228 - INFO - Ingestion process completed.\n"
     ]
    }
   ],
   "source": [
    "# Run the ingestion function\n",
    "upload_files_to_gcs_multiple_sources(bucket_name, local_directories, blob_prefixes)\n"
   ]
  },
  {
   "cell_type": "code",
   "execution_count": null,
   "id": "01e3dd8a-b4f9-41a0-a2b0-410edb95521b",
   "metadata": {},
   "outputs": [],
   "source": []
  },
  {
   "cell_type": "code",
   "execution_count": null,
   "id": "e2b6cceb-da5a-4b6c-b50b-37cc8356975b",
   "metadata": {},
   "outputs": [],
   "source": []
  }
 ],
 "metadata": {
  "kernelspec": {
   "display_name": "Python 3 (ipykernel)",
   "language": "python",
   "name": "python3"
  },
  "language_info": {
   "codemirror_mode": {
    "name": "ipython",
    "version": 3
   },
   "file_extension": ".py",
   "mimetype": "text/x-python",
   "name": "python",
   "nbconvert_exporter": "python",
   "pygments_lexer": "ipython3",
   "version": "3.12.4"
  }
 },
 "nbformat": 4,
 "nbformat_minor": 5
}
