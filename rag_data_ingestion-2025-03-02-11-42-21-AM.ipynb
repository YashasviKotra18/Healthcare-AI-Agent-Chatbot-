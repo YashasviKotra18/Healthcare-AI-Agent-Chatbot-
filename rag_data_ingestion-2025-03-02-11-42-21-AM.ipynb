{
 "cells": [
  {
   "cell_type": "code",
   "execution_count": 1,
   "id": "124e5d6c-8896-41da-9aed-b4f61965c188",
   "metadata": {
    "execution": {
     "iopub.execute_input": "2025-03-02T19:42:32.580084Z",
     "iopub.status.busy": "2025-03-02T19:42:32.578091Z",
     "iopub.status.idle": "2025-03-02T19:42:32.605933Z",
     "shell.execute_reply": "2025-03-02T19:42:32.603930Z"
    }
   },
   "outputs": [
    {
     "name": "stdout",
     "output_type": "stream",
     "text": [
      "Authentication set up successfully!\n"
     ]
    }
   ],
   "source": [
    "import os\n",
    "\n",
    "# Set the environment variable for authentication\n",
    "os.environ[\"GOOGLE_APPLICATION_CREDENTIALS\"] = \"model-command-452507-p4-0c5e54bced67.json\"\n",
    "\n",
    "print(\"Authentication set up successfully!\")\n"
   ]
  },
  {
   "cell_type": "code",
   "execution_count": 2,
   "id": "5d69ae42-169e-45ce-8470-2f9b2109b789",
   "metadata": {
    "execution": {
     "iopub.execute_input": "2025-03-02T19:42:32.610948Z",
     "iopub.status.busy": "2025-03-02T19:42:32.610948Z",
     "iopub.status.idle": "2025-03-02T19:42:43.479831Z",
     "shell.execute_reply": "2025-03-02T19:42:43.478829Z"
    }
   },
   "outputs": [
    {
     "name": "stdout",
     "output_type": "stream",
     "text": [
      "Defaulting to user installation because normal site-packages is not writeable\n",
      "Requirement already satisfied: google-cloud-storage in c:\\users\\harrpoli\\appdata\\roaming\\python\\python312\\site-packages (3.1.0)\n",
      "Requirement already satisfied: google-auth<3.0dev,>=2.26.1 in c:\\users\\harrpoli\\appdata\\roaming\\python\\python312\\site-packages (from google-cloud-storage) (2.38.0)\n",
      "Requirement already satisfied: google-api-core<3.0.0dev,>=2.15.0 in c:\\users\\harrpoli\\appdata\\roaming\\python\\python312\\site-packages (from google-cloud-storage) (2.24.1)\n",
      "Requirement already satisfied: google-cloud-core<3.0dev,>=2.4.2 in c:\\users\\harrpoli\\appdata\\roaming\\python\\python312\\site-packages (from google-cloud-storage) (2.4.2)\n",
      "Requirement already satisfied: google-resumable-media>=2.7.2 in c:\\users\\harrpoli\\appdata\\roaming\\python\\python312\\site-packages (from google-cloud-storage) (2.7.2)\n",
      "Requirement already satisfied: requests<3.0.0dev,>=2.18.0 in c:\\program files\\arcgis\\anaconda\\lib\\site-packages (from google-cloud-storage) (2.32.2)\n",
      "Requirement already satisfied: google-crc32c<2.0dev,>=1.0 in c:\\users\\harrpoli\\appdata\\roaming\\python\\python312\\site-packages (from google-cloud-storage) (1.6.0)\n",
      "Requirement already satisfied: googleapis-common-protos<2.0.dev0,>=1.56.2 in c:\\users\\harrpoli\\appdata\\roaming\\python\\python312\\site-packages (from google-api-core<3.0.0dev,>=2.15.0->google-cloud-storage) (1.67.0)\n",
      "Requirement already satisfied: protobuf!=3.20.0,!=3.20.1,!=4.21.0,!=4.21.1,!=4.21.2,!=4.21.3,!=4.21.4,!=4.21.5,<6.0.0.dev0,>=3.19.5 in c:\\users\\harrpoli\\appdata\\roaming\\python\\python312\\site-packages (from google-api-core<3.0.0dev,>=2.15.0->google-cloud-storage) (5.29.3)\n",
      "Requirement already satisfied: proto-plus<2.0.0dev,>=1.22.3 in c:\\users\\harrpoli\\appdata\\roaming\\python\\python312\\site-packages (from google-api-core<3.0.0dev,>=2.15.0->google-cloud-storage) (1.26.0)\n",
      "Requirement already satisfied: cachetools<6.0,>=2.0.0 in c:\\program files\\arcgis\\anaconda\\lib\\site-packages (from google-auth<3.0dev,>=2.26.1->google-cloud-storage) (5.3.3)\n",
      "Requirement already satisfied: pyasn1-modules>=0.2.1 in c:\\program files\\arcgis\\anaconda\\lib\\site-packages (from google-auth<3.0dev,>=2.26.1->google-cloud-storage) (0.2.8)\n",
      "Requirement already satisfied: rsa<5,>=3.1.4 in c:\\users\\harrpoli\\appdata\\roaming\\python\\python312\\site-packages (from google-auth<3.0dev,>=2.26.1->google-cloud-storage) (4.9)\n",
      "Requirement already satisfied: charset-normalizer<4,>=2 in c:\\program files\\arcgis\\anaconda\\lib\\site-packages (from requests<3.0.0dev,>=2.18.0->google-cloud-storage) (2.0.4)\n",
      "Requirement already satisfied: idna<4,>=2.5 in c:\\program files\\arcgis\\anaconda\\lib\\site-packages (from requests<3.0.0dev,>=2.18.0->google-cloud-storage) (3.7)\n",
      "Requirement already satisfied: urllib3<3,>=1.21.1 in c:\\program files\\arcgis\\anaconda\\lib\\site-packages (from requests<3.0.0dev,>=2.18.0->google-cloud-storage) (2.2.2)\n",
      "Requirement already satisfied: certifi>=2017.4.17 in c:\\program files\\arcgis\\anaconda\\lib\\site-packages (from requests<3.0.0dev,>=2.18.0->google-cloud-storage) (2024.6.2)\n",
      "Requirement already satisfied: pyasn1<0.5.0,>=0.4.6 in c:\\program files\\arcgis\\anaconda\\lib\\site-packages (from pyasn1-modules>=0.2.1->google-auth<3.0dev,>=2.26.1->google-cloud-storage) (0.4.8)\n"
     ]
    }
   ],
   "source": [
    "!pip install google-cloud-storage\n"
   ]
  },
  {
   "cell_type": "code",
   "execution_count": 3,
   "id": "0b5b9499-fc05-4f29-82e2-6b6b26b768bd",
   "metadata": {
    "execution": {
     "iopub.execute_input": "2025-03-02T19:42:43.483835Z",
     "iopub.status.busy": "2025-03-02T19:42:43.483835Z",
     "iopub.status.idle": "2025-03-02T19:43:12.168232Z",
     "shell.execute_reply": "2025-03-02T19:43:12.167231Z"
    }
   },
   "outputs": [
    {
     "name": "stdout",
     "output_type": "stream",
     "text": [
      "\n",
      "🚀 Running Automated Upload Task...\n",
      "✅ Uploaded: C:/Users/HarrPoli/Desktop/rag_docs/clinical_records\\cervical_facts.pdf --> gs://healthcare-data-rag/medicaldata/clinical_records/cervical_facts.pdf\n",
      "✅ Uploaded: C:/Users/HarrPoli/Desktop/rag_docs/clinical_records\\family-history-factsheet-508.pdf --> gs://healthcare-data-rag/medicaldata/clinical_records/family-history-factsheet-508.pdf\n",
      "✅ Uploaded: C:/Users/HarrPoli/Desktop/rag_docs/Journals\\Emerging_Infectious_Diseases.pdf --> gs://healthcare-data-rag/medicaldata/Journals/Emerging_Infectious_Diseases.pdf\n",
      "✅ Uploaded: C:/Users/HarrPoli/Desktop/rag_docs/Journals\\Treatment_guidelines.pdf --> gs://healthcare-data-rag/medicaldata/Journals/Treatment_guidelines.pdf\n",
      "✅ Uploaded: C:/Users/HarrPoli/Desktop/rag_docs/Research_Papers\\Global_Health.pdf --> gs://healthcare-data-rag/medicaldata/Research_Papers/Global_Health.pdf\n",
      "✅ Uploaded: C:/Users/HarrPoli/Desktop/rag_docs/Research_Papers\\PREVENTING_CHRONIC_DISEASE.pdf --> gs://healthcare-data-rag/medicaldata/Research_Papers/PREVENTING_CHRONIC_DISEASE.pdf\n",
      "✅ Uploaded: C:/Users/HarrPoli/Desktop/rag_docs/Textbooks\\Clinical_guidelines_Diagnosis_and_treatment.pdf --> gs://healthcare-data-rag/medicaldata/Textbooks/Clinical_guidelines_Diagnosis_and_treatment.pdf\n",
      "✅ Uploaded: C:/Users/HarrPoli/Desktop/rag_docs/Textbooks\\Current Essentials of Medicine.pdf --> gs://healthcare-data-rag/medicaldata/Textbooks/Current Essentials of Medicine.pdf\n",
      "✅ Uploaded: C:/Users/HarrPoli/Desktop/rag_docs/Textbooks\\CURRENT Medical Diagnosis & Treatment 2020.pdf --> gs://healthcare-data-rag/medicaldata/Textbooks/CURRENT Medical Diagnosis & Treatment 2020.pdf\n",
      "✅ Uploaded: C:/Users/HarrPoli/Desktop/rag_docs/Textbooks\\Diseases and Treatment.pdf --> gs://healthcare-data-rag/medicaldata/Textbooks/Diseases and Treatment.pdf\n",
      "✅ Uploaded: C:/Users/HarrPoli/Desktop/rag_docs/Textbooks\\Harrisons Manual of Medicine - 19th Edition (2016).pdf --> gs://healthcare-data-rag/medicaldata/Textbooks/Harrisons Manual of Medicine - 19th Edition (2016).pdf\n",
      "✅ Uploaded: C:/Users/HarrPoli/Desktop/rag_docs/Textbooks\\Medical_Therapeutics.pdf --> gs://healthcare-data-rag/medicaldata/Textbooks/Medical_Therapeutics.pdf\n",
      "✅ Uploaded: C:/Users/HarrPoli/Desktop/rag_docs/Textbooks\\MODERN_METHODS_OF_DIAGNOSING_DISEASES.pdf --> gs://healthcare-data-rag/medicaldata/Textbooks/MODERN_METHODS_OF_DIAGNOSING_DISEASES.pdf\n",
      "✅ Uploaded: C:/Users/HarrPoli/Desktop/rag_docs/Textbooks\\washington and mannual harrison.pdf --> gs://healthcare-data-rag/medicaldata/Textbooks/washington and mannual harrison.pdf\n",
      "✅ All files uploaded successfully!\n"
     ]
    }
   ],
   "source": [
    "import os\n",
    "from google.cloud import storage\n",
    "import glob\n",
    "import time\n",
    "\n",
    "# Set Google Cloud authentication\n",
    "os.environ[\"GOOGLE_APPLICATION_CREDENTIALS\"] = \"model-command-452507-p4-0c5e54bced67.json\"\n",
    "\n",
    "# Define Google Cloud Storage Bucket\n",
    "BUCKET_NAME = \"healthcare-data-rag\"\n",
    "\n",
    "# Define Local Folder Paths\n",
    "LOCAL_PATHS = {\n",
    "    \"clinical_records\": \"C:/Users/HarrPoli/Desktop/rag_docs/clinical_records\",\n",
    "    \"Journals\": \"C:/Users/HarrPoli/Desktop/rag_docs/Journals\",\n",
    "    \"Research_Papers\": \"C:/Users/HarrPoli/Desktop/rag_docs/Research_Papers\",\n",
    "    \"Textbooks\": \"C:/Users/HarrPoli/Desktop/rag_docs/Textbooks\"\n",
    "}\n",
    "\n",
    "# Define Corresponding GCP Folder Paths\n",
    "GCP_PATHS = {\n",
    "    \"clinical_records\": \"medicaldata/clinical_records\",\n",
    "    \"Journals\": \"medicaldata/Journals\",\n",
    "    \"Research_Papers\": \"medicaldata/Research_Papers\",\n",
    "    \"Textbooks\": \"medicaldata/Textbooks\"\n",
    "}\n",
    "\n",
    "def upload_to_gcs(bucket_name, local_file_path, destination_blob_path):\n",
    "    \"\"\"Uploads a file to Google Cloud Storage.\"\"\"\n",
    "    client = storage.Client()\n",
    "    bucket = client.bucket(bucket_name)\n",
    "    blob = bucket.blob(destination_blob_path)\n",
    "    \n",
    "    blob.upload_from_filename(local_file_path)\n",
    "    print(f\"✅ Uploaded: {local_file_path} --> gs://{bucket_name}/{destination_blob_path}\")\n",
    "\n",
    "def batch_upload():\n",
    "    \"\"\"Uploads all files from local folders to corresponding GCP folders.\"\"\"\n",
    "    print(\"\\n🚀 Running Automated Upload Task...\")\n",
    "    for category, local_folder in LOCAL_PATHS.items():\n",
    "        gcs_folder = GCP_PATHS[category]\n",
    "\n",
    "        # Get all files in the local directory\n",
    "        files = glob.glob(f\"{local_folder}/*\")\n",
    "\n",
    "        for file in files:\n",
    "            file_name = os.path.basename(file)  # Extract file name\n",
    "            destination_blob = f\"{gcs_folder}/{file_name}\"\n",
    "\n",
    "            upload_to_gcs(BUCKET_NAME, file, destination_blob)\n",
    "    print(\"✅ All files uploaded successfully!\")\n",
    "\n",
    "# Execute the batch upload\n",
    "batch_upload()\n"
   ]
  },
  {
   "cell_type": "code",
   "execution_count": 4,
   "id": "3b295046-2d8e-4382-94c8-083d3e0af00c",
   "metadata": {
    "execution": {
     "iopub.execute_input": "2025-03-02T19:43:12.171225Z",
     "iopub.status.busy": "2025-03-02T19:43:12.171225Z",
     "iopub.status.idle": "2025-03-02T19:43:13.411169Z",
     "shell.execute_reply": "2025-03-02T19:43:13.410169Z"
    }
   },
   "outputs": [
    {
     "name": "stdout",
     "output_type": "stream",
     "text": [
      "medicaldata/clinical_records/\n",
      "medicaldata/clinical_records/cervical_facts.pdf\n",
      "medicaldata/clinical_records/family-history-factsheet-508.pdf\n",
      "medicaldata/Journals/\n",
      "medicaldata/Journals/Emerging_Infectious_Diseases.pdf\n",
      "medicaldata/Journals/Treatment_guidelines.pdf\n",
      "medicaldata/Research_Papers/\n",
      "medicaldata/Research_Papers/Global_Health.pdf\n",
      "medicaldata/Research_Papers/PREVENTING_CHRONIC_DISEASE.pdf\n",
      "medicaldata/Textbooks/\n",
      "medicaldata/Textbooks/CURRENT Medical Diagnosis & Treatment 2020.pdf\n",
      "medicaldata/Textbooks/Clinical_guidelines_Diagnosis_and_treatment.pdf\n",
      "medicaldata/Textbooks/Current Essentials of Medicine.pdf\n",
      "medicaldata/Textbooks/Diseases and Treatment.pdf\n",
      "medicaldata/Textbooks/Harrisons Manual of Medicine - 19th Edition (2016).pdf\n",
      "medicaldata/Textbooks/MODERN_METHODS_OF_DIAGNOSING_DISEASES.pdf\n",
      "medicaldata/Textbooks/Medical_Therapeutics.pdf\n",
      "medicaldata/Textbooks/washington and mannual harrison.pdf\n"
     ]
    }
   ],
   "source": [
    "def list_gcs_files(bucket_name, folder_name):\n",
    "    \"\"\"Lists all files uploaded in a specific folder in GCS.\"\"\"\n",
    "    client = storage.Client()\n",
    "    bucket = client.bucket(bucket_name)\n",
    "\n",
    "    blobs = list(bucket.list_blobs(prefix=folder_name))\n",
    "    for blob in blobs:\n",
    "        print(blob.name)\n",
    "\n",
    "# List uploaded files for verification\n",
    "list_gcs_files(BUCKET_NAME, \"medicaldata/clinical_records\")\n",
    "list_gcs_files(BUCKET_NAME, \"medicaldata/Journals\")\n",
    "list_gcs_files(BUCKET_NAME, \"medicaldata/Research_Papers\")\n",
    "list_gcs_files(BUCKET_NAME, \"medicaldata/Textbooks\")\n"
   ]
  },
  {
   "cell_type": "code",
   "execution_count": null,
   "id": "a9f62978-27fe-4a6e-8597-cd7d25b55df8",
   "metadata": {},
   "outputs": [],
   "source": []
  },
  {
   "cell_type": "code",
   "execution_count": 2,
   "id": "df59ea06-9020-4559-8bf0-e6f5a20618db",
   "metadata": {
    "tags": []
   },
   "outputs": [
    {
     "name": "stdout",
     "output_type": "stream",
     "text": [
      "Defaulting to user installation because normal site-packages is not writeable\n",
      "Requirement already satisfied: jupyterlab_scheduler in c:\\users\\harrpoli\\appdata\\roaming\\python\\python312\\site-packages (0.1.5)\n",
      "Requirement already satisfied: jupyterlab~=3.1.4 in c:\\users\\harrpoli\\appdata\\roaming\\python\\python312\\site-packages (from jupyterlab_scheduler) (3.1.19)\n",
      "Requirement already satisfied: python-crontab~=2.5 in c:\\users\\harrpoli\\appdata\\roaming\\python\\python312\\site-packages (from jupyterlab_scheduler) (2.7.1)\n",
      "Requirement already satisfied: papermill~=2.1 in c:\\users\\harrpoli\\appdata\\roaming\\python\\python312\\site-packages (from jupyterlab_scheduler) (2.6.0)\n",
      "Requirement already satisfied: ipython in c:\\program files\\arcgis\\anaconda\\lib\\site-packages (from jupyterlab~=3.1.4->jupyterlab_scheduler) (8.25.0)\n",
      "Requirement already satisfied: packaging in c:\\program files\\arcgis\\anaconda\\lib\\site-packages (from jupyterlab~=3.1.4->jupyterlab_scheduler) (23.2)\n",
      "Requirement already satisfied: tornado>=6.1.0 in c:\\program files\\arcgis\\anaconda\\lib\\site-packages (from jupyterlab~=3.1.4->jupyterlab_scheduler) (6.4.1)\n",
      "Requirement already satisfied: jupyter-core in c:\\program files\\arcgis\\anaconda\\lib\\site-packages (from jupyterlab~=3.1.4->jupyterlab_scheduler) (5.7.2)\n",
      "Requirement already satisfied: jupyterlab-server~=2.3 in c:\\program files\\arcgis\\anaconda\\lib\\site-packages (from jupyterlab~=3.1.4->jupyterlab_scheduler) (2.25.1)\n",
      "Requirement already satisfied: jupyter-server~=1.4 in c:\\users\\harrpoli\\appdata\\roaming\\python\\python312\\site-packages (from jupyterlab~=3.1.4->jupyterlab_scheduler) (1.24.0)\n",
      "Requirement already satisfied: nbclassic~=0.2 in c:\\users\\harrpoli\\appdata\\roaming\\python\\python312\\site-packages (from jupyterlab~=3.1.4->jupyterlab_scheduler) (0.5.6)\n",
      "Requirement already satisfied: jinja2>=2.1 in c:\\program files\\arcgis\\anaconda\\lib\\site-packages (from jupyterlab~=3.1.4->jupyterlab_scheduler) (3.1.4)\n",
      "Requirement already satisfied: click in c:\\program files\\arcgis\\anaconda\\lib\\site-packages (from papermill~=2.1->jupyterlab_scheduler) (8.1.7)\n",
      "Requirement already satisfied: pyyaml in c:\\program files\\arcgis\\anaconda\\lib\\site-packages (from papermill~=2.1->jupyterlab_scheduler) (6.0.1)\n",
      "Requirement already satisfied: nbformat>=5.2.0 in c:\\program files\\arcgis\\anaconda\\lib\\site-packages (from papermill~=2.1->jupyterlab_scheduler) (5.9.2)\n",
      "Requirement already satisfied: nbclient>=0.2.0 in c:\\program files\\arcgis\\anaconda\\lib\\site-packages (from papermill~=2.1->jupyterlab_scheduler) (0.8.0)\n",
      "Requirement already satisfied: tqdm>=4.32.2 in c:\\program files\\arcgis\\anaconda\\lib\\site-packages (from papermill~=2.1->jupyterlab_scheduler) (4.66.4)\n",
      "Requirement already satisfied: requests in c:\\program files\\arcgis\\anaconda\\lib\\site-packages (from papermill~=2.1->jupyterlab_scheduler) (2.32.2)\n",
      "Requirement already satisfied: entrypoints in c:\\program files\\arcgis\\anaconda\\lib\\site-packages (from papermill~=2.1->jupyterlab_scheduler) (0.4)\n",
      "Requirement already satisfied: tenacity>=5.0.2 in c:\\program files\\arcgis\\anaconda\\lib\\site-packages (from papermill~=2.1->jupyterlab_scheduler) (8.2.2)\n",
      "Requirement already satisfied: ansicolors in c:\\users\\harrpoli\\appdata\\roaming\\python\\python312\\site-packages (from papermill~=2.1->jupyterlab_scheduler) (1.1.8)\n",
      "Requirement already satisfied: aiohttp>=3.9.0 in c:\\program files\\arcgis\\anaconda\\lib\\site-packages (from papermill~=2.1->jupyterlab_scheduler) (3.9.5)\n",
      "Requirement already satisfied: python-dateutil in c:\\program files\\arcgis\\anaconda\\lib\\site-packages (from python-crontab~=2.5->jupyterlab_scheduler) (2.9.0.post0)\n",
      "Requirement already satisfied: aiosignal>=1.1.2 in c:\\program files\\arcgis\\anaconda\\lib\\site-packages (from aiohttp>=3.9.0->papermill~=2.1->jupyterlab_scheduler) (1.2.0)\n",
      "Requirement already satisfied: attrs>=17.3.0 in c:\\program files\\arcgis\\anaconda\\lib\\site-packages (from aiohttp>=3.9.0->papermill~=2.1->jupyterlab_scheduler) (23.1.0)\n",
      "Requirement already satisfied: frozenlist>=1.1.1 in c:\\program files\\arcgis\\anaconda\\lib\\site-packages (from aiohttp>=3.9.0->papermill~=2.1->jupyterlab_scheduler) (1.4.0)\n",
      "Requirement already satisfied: multidict<7.0,>=4.5 in c:\\program files\\arcgis\\anaconda\\lib\\site-packages (from aiohttp>=3.9.0->papermill~=2.1->jupyterlab_scheduler) (6.0.4)\n",
      "Requirement already satisfied: yarl<2.0,>=1.0 in c:\\program files\\arcgis\\anaconda\\lib\\site-packages (from aiohttp>=3.9.0->papermill~=2.1->jupyterlab_scheduler) (1.9.3)\n",
      "Requirement already satisfied: MarkupSafe>=2.0 in c:\\program files\\arcgis\\anaconda\\lib\\site-packages (from jinja2>=2.1->jupyterlab~=3.1.4->jupyterlab_scheduler) (2.1.3)\n",
      "Requirement already satisfied: anyio<4,>=3.1.0 in c:\\users\\harrpoli\\appdata\\roaming\\python\\python312\\site-packages (from jupyter-server~=1.4->jupyterlab~=3.1.4->jupyterlab_scheduler) (3.7.1)\n",
      "Requirement already satisfied: argon2-cffi in c:\\program files\\arcgis\\anaconda\\lib\\site-packages (from jupyter-server~=1.4->jupyterlab~=3.1.4->jupyterlab_scheduler) (21.3.0)\n",
      "Requirement already satisfied: jupyter-client>=6.1.12 in c:\\program files\\arcgis\\anaconda\\lib\\site-packages (from jupyter-server~=1.4->jupyterlab~=3.1.4->jupyterlab_scheduler) (8.6.0)\n",
      "Requirement already satisfied: nbconvert>=6.4.4 in c:\\program files\\arcgis\\anaconda\\lib\\site-packages (from jupyter-server~=1.4->jupyterlab~=3.1.4->jupyterlab_scheduler) (7.10.0)\n",
      "Requirement already satisfied: prometheus-client in c:\\program files\\arcgis\\anaconda\\lib\\site-packages (from jupyter-server~=1.4->jupyterlab~=3.1.4->jupyterlab_scheduler) (0.14.1)\n",
      "Requirement already satisfied: pyzmq>=17 in c:\\program files\\arcgis\\anaconda\\lib\\site-packages (from jupyter-server~=1.4->jupyterlab~=3.1.4->jupyterlab_scheduler) (25.1.2)\n",
      "Requirement already satisfied: Send2Trash in c:\\program files\\arcgis\\anaconda\\lib\\site-packages (from jupyter-server~=1.4->jupyterlab~=3.1.4->jupyterlab_scheduler) (1.8.2)\n",
      "Requirement already satisfied: terminado>=0.8.3 in c:\\program files\\arcgis\\anaconda\\lib\\site-packages (from jupyter-server~=1.4->jupyterlab~=3.1.4->jupyterlab_scheduler) (0.17.1)\n",
      "Requirement already satisfied: traitlets>=5.1 in c:\\program files\\arcgis\\anaconda\\lib\\site-packages (from jupyter-server~=1.4->jupyterlab~=3.1.4->jupyterlab_scheduler) (5.14.3)\n",
      "Requirement already satisfied: websocket-client in c:\\program files\\arcgis\\anaconda\\lib\\site-packages (from jupyter-server~=1.4->jupyterlab~=3.1.4->jupyterlab_scheduler) (1.8.0)\n",
      "Requirement already satisfied: pywinpty in c:\\program files\\arcgis\\anaconda\\lib\\site-packages (from jupyter-server~=1.4->jupyterlab~=3.1.4->jupyterlab_scheduler) (2.0.10)\n",
      "Requirement already satisfied: platformdirs>=2.5 in c:\\program files\\arcgis\\anaconda\\lib\\site-packages (from jupyter-core->jupyterlab~=3.1.4->jupyterlab_scheduler) (3.10.0)\n",
      "Requirement already satisfied: pywin32>=300 in c:\\program files\\arcgis\\anaconda\\lib\\site-packages (from jupyter-core->jupyterlab~=3.1.4->jupyterlab_scheduler) (305.1)\n",
      "Requirement already satisfied: babel>=2.10 in c:\\program files\\arcgis\\anaconda\\lib\\site-packages (from jupyterlab-server~=2.3->jupyterlab~=3.1.4->jupyterlab_scheduler) (2.11.0)\n",
      "Requirement already satisfied: json5>=0.9.0 in c:\\program files\\arcgis\\anaconda\\lib\\site-packages (from jupyterlab-server~=2.3->jupyterlab~=3.1.4->jupyterlab_scheduler) (0.9.6)\n",
      "Requirement already satisfied: jsonschema>=4.18.0 in c:\\program files\\arcgis\\anaconda\\lib\\site-packages (from jupyterlab-server~=2.3->jupyterlab~=3.1.4->jupyterlab_scheduler) (4.19.2)\n",
      "Requirement already satisfied: ipython-genutils in c:\\program files\\arcgis\\anaconda\\lib\\site-packages (from nbclassic~=0.2->jupyterlab~=3.1.4->jupyterlab_scheduler) (0.2.0)\n",
      "Requirement already satisfied: notebook-shim>=0.2.3 in c:\\program files\\arcgis\\anaconda\\lib\\site-packages (from nbclassic~=0.2->jupyterlab~=3.1.4->jupyterlab_scheduler) (0.2.3)\n",
      "Requirement already satisfied: nest-asyncio>=1.5 in c:\\program files\\arcgis\\anaconda\\lib\\site-packages (from nbclassic~=0.2->jupyterlab~=3.1.4->jupyterlab_scheduler) (1.6.0)\n",
      "Requirement already satisfied: ipykernel in c:\\program files\\arcgis\\anaconda\\lib\\site-packages (from nbclassic~=0.2->jupyterlab~=3.1.4->jupyterlab_scheduler) (6.28.0)\n",
      "Requirement already satisfied: fastjsonschema in c:\\program files\\arcgis\\anaconda\\lib\\site-packages (from nbformat>=5.2.0->papermill~=2.1->jupyterlab_scheduler) (2.16.2)\n",
      "Requirement already satisfied: charset-normalizer<4,>=2 in c:\\program files\\arcgis\\anaconda\\lib\\site-packages (from requests->papermill~=2.1->jupyterlab_scheduler) (2.0.4)\n",
      "Requirement already satisfied: idna<4,>=2.5 in c:\\program files\\arcgis\\anaconda\\lib\\site-packages (from requests->papermill~=2.1->jupyterlab_scheduler) (3.7)\n",
      "Requirement already satisfied: urllib3<3,>=1.21.1 in c:\\program files\\arcgis\\anaconda\\lib\\site-packages (from requests->papermill~=2.1->jupyterlab_scheduler) (2.2.2)\n",
      "Requirement already satisfied: certifi>=2017.4.17 in c:\\program files\\arcgis\\anaconda\\lib\\site-packages (from requests->papermill~=2.1->jupyterlab_scheduler) (2024.6.2)\n",
      "Requirement already satisfied: colorama in c:\\program files\\arcgis\\anaconda\\lib\\site-packages (from tqdm>=4.32.2->papermill~=2.1->jupyterlab_scheduler) (0.4.6)\n",
      "Requirement already satisfied: decorator in c:\\program files\\arcgis\\anaconda\\lib\\site-packages (from ipython->jupyterlab~=3.1.4->jupyterlab_scheduler) (5.1.1)\n",
      "Requirement already satisfied: jedi>=0.16 in c:\\program files\\arcgis\\anaconda\\lib\\site-packages (from ipython->jupyterlab~=3.1.4->jupyterlab_scheduler) (0.18.1)\n",
      "Requirement already satisfied: matplotlib-inline in c:\\program files\\arcgis\\anaconda\\lib\\site-packages (from ipython->jupyterlab~=3.1.4->jupyterlab_scheduler) (0.1.6)\n",
      "Requirement already satisfied: prompt-toolkit<3.1.0,>=3.0.41 in c:\\program files\\arcgis\\anaconda\\lib\\site-packages (from ipython->jupyterlab~=3.1.4->jupyterlab_scheduler) (3.0.43)\n",
      "Requirement already satisfied: pygments>=2.4.0 in c:\\program files\\arcgis\\anaconda\\lib\\site-packages (from ipython->jupyterlab~=3.1.4->jupyterlab_scheduler) (2.15.1)\n",
      "Requirement already satisfied: stack-data in c:\\program files\\arcgis\\anaconda\\lib\\site-packages (from ipython->jupyterlab~=3.1.4->jupyterlab_scheduler) (0.2.0)\n",
      "Requirement already satisfied: six>=1.5 in c:\\program files\\arcgis\\anaconda\\lib\\site-packages (from python-dateutil->python-crontab~=2.5->jupyterlab_scheduler) (1.16.0)\n",
      "Requirement already satisfied: sniffio>=1.1 in c:\\program files\\arcgis\\anaconda\\lib\\site-packages (from anyio<4,>=3.1.0->jupyter-server~=1.4->jupyterlab~=3.1.4->jupyterlab_scheduler) (1.3.0)\n",
      "Requirement already satisfied: pytz>=2015.7 in c:\\program files\\arcgis\\anaconda\\lib\\site-packages (from babel>=2.10->jupyterlab-server~=2.3->jupyterlab~=3.1.4->jupyterlab_scheduler) (2024.1)\n",
      "Requirement already satisfied: parso<0.9.0,>=0.8.0 in c:\\program files\\arcgis\\anaconda\\lib\\site-packages (from jedi>=0.16->ipython->jupyterlab~=3.1.4->jupyterlab_scheduler) (0.8.3)\n",
      "Requirement already satisfied: jsonschema-specifications>=2023.03.6 in c:\\program files\\arcgis\\anaconda\\lib\\site-packages (from jsonschema>=4.18.0->jupyterlab-server~=2.3->jupyterlab~=3.1.4->jupyterlab_scheduler) (2023.7.1)\n",
      "Requirement already satisfied: referencing>=0.28.4 in c:\\program files\\arcgis\\anaconda\\lib\\site-packages (from jsonschema>=4.18.0->jupyterlab-server~=2.3->jupyterlab~=3.1.4->jupyterlab_scheduler) (0.30.2)\n",
      "Requirement already satisfied: rpds-py>=0.7.1 in c:\\program files\\arcgis\\anaconda\\lib\\site-packages (from jsonschema>=4.18.0->jupyterlab-server~=2.3->jupyterlab~=3.1.4->jupyterlab_scheduler) (0.10.6)\n",
      "Requirement already satisfied: beautifulsoup4 in c:\\program files\\arcgis\\anaconda\\lib\\site-packages (from nbconvert>=6.4.4->jupyter-server~=1.4->jupyterlab~=3.1.4->jupyterlab_scheduler) (4.12.3)\n",
      "Requirement already satisfied: bleach!=5.0.0 in c:\\program files\\arcgis\\anaconda\\lib\\site-packages (from nbconvert>=6.4.4->jupyter-server~=1.4->jupyterlab~=3.1.4->jupyterlab_scheduler) (4.1.0)\n",
      "Requirement already satisfied: defusedxml in c:\\program files\\arcgis\\anaconda\\lib\\site-packages (from nbconvert>=6.4.4->jupyter-server~=1.4->jupyterlab~=3.1.4->jupyterlab_scheduler) (0.7.1)\n",
      "Requirement already satisfied: jupyterlab-pygments in c:\\program files\\arcgis\\anaconda\\lib\\site-packages (from nbconvert>=6.4.4->jupyter-server~=1.4->jupyterlab~=3.1.4->jupyterlab_scheduler) (0.1.2)\n",
      "Requirement already satisfied: mistune<4,>=2.0.3 in c:\\program files\\arcgis\\anaconda\\lib\\site-packages (from nbconvert>=6.4.4->jupyter-server~=1.4->jupyterlab~=3.1.4->jupyterlab_scheduler) (2.0.4)\n",
      "Requirement already satisfied: pandocfilters>=1.4.1 in c:\\program files\\arcgis\\anaconda\\lib\\site-packages (from nbconvert>=6.4.4->jupyter-server~=1.4->jupyterlab~=3.1.4->jupyterlab_scheduler) (1.5.0)\n",
      "Requirement already satisfied: tinycss2 in c:\\program files\\arcgis\\anaconda\\lib\\site-packages (from nbconvert>=6.4.4->jupyter-server~=1.4->jupyterlab~=3.1.4->jupyterlab_scheduler) (1.2.1)\n",
      "Requirement already satisfied: wcwidth in c:\\program files\\arcgis\\anaconda\\lib\\site-packages (from prompt-toolkit<3.1.0,>=3.0.41->ipython->jupyterlab~=3.1.4->jupyterlab_scheduler) (0.2.5)\n",
      "Requirement already satisfied: argon2-cffi-bindings in c:\\program files\\arcgis\\anaconda\\lib\\site-packages (from argon2-cffi->jupyter-server~=1.4->jupyterlab~=3.1.4->jupyterlab_scheduler) (21.2.0)\n",
      "Requirement already satisfied: comm>=0.1.1 in c:\\program files\\arcgis\\anaconda\\lib\\site-packages (from ipykernel->nbclassic~=0.2->jupyterlab~=3.1.4->jupyterlab_scheduler) (0.2.1)\n",
      "Requirement already satisfied: debugpy>=1.6.5 in c:\\program files\\arcgis\\anaconda\\lib\\site-packages (from ipykernel->nbclassic~=0.2->jupyterlab~=3.1.4->jupyterlab_scheduler) (1.6.7)\n",
      "Requirement already satisfied: psutil in c:\\program files\\arcgis\\anaconda\\lib\\site-packages (from ipykernel->nbclassic~=0.2->jupyterlab~=3.1.4->jupyterlab_scheduler) (5.9.0)\n",
      "Requirement already satisfied: executing in c:\\program files\\arcgis\\anaconda\\lib\\site-packages (from stack-data->ipython->jupyterlab~=3.1.4->jupyterlab_scheduler) (0.8.3)\n",
      "Requirement already satisfied: asttokens in c:\\program files\\arcgis\\anaconda\\lib\\site-packages (from stack-data->ipython->jupyterlab~=3.1.4->jupyterlab_scheduler) (2.0.5)\n",
      "Requirement already satisfied: pure-eval in c:\\program files\\arcgis\\anaconda\\lib\\site-packages (from stack-data->ipython->jupyterlab~=3.1.4->jupyterlab_scheduler) (0.2.2)\n",
      "Requirement already satisfied: webencodings in c:\\program files\\arcgis\\anaconda\\lib\\site-packages (from bleach!=5.0.0->nbconvert>=6.4.4->jupyter-server~=1.4->jupyterlab~=3.1.4->jupyterlab_scheduler) (0.5.1)\n",
      "Requirement already satisfied: cffi>=1.0.1 in c:\\program files\\arcgis\\anaconda\\lib\\site-packages (from argon2-cffi-bindings->argon2-cffi->jupyter-server~=1.4->jupyterlab~=3.1.4->jupyterlab_scheduler) (1.16.0)\n",
      "Requirement already satisfied: soupsieve>1.2 in c:\\program files\\arcgis\\anaconda\\lib\\site-packages (from beautifulsoup4->nbconvert>=6.4.4->jupyter-server~=1.4->jupyterlab~=3.1.4->jupyterlab_scheduler) (2.5)\n",
      "Requirement already satisfied: pycparser in c:\\program files\\arcgis\\anaconda\\lib\\site-packages (from cffi>=1.0.1->argon2-cffi-bindings->argon2-cffi->jupyter-server~=1.4->jupyterlab~=3.1.4->jupyterlab_scheduler) (2.21)\n",
      "Note: you may need to restart the kernel to use updated packages.\n"
     ]
    }
   ],
   "source": [
    " pip install jupyterlab_scheduler\n"
   ]
  },
  {
   "cell_type": "code",
   "execution_count": 1,
   "id": "f8d56af5-5bf9-4db2-8e2e-067f1361692b",
   "metadata": {
    "tags": []
   },
   "outputs": [],
   "source": [
    "import logging\n",
    "\n",
    "# Configure logging\n",
    "logging.basicConfig(filename=\"upload_log.txt\", level=logging.INFO)\n",
    "\n",
    "def upload_to_gcs(bucket_name, local_file_path, destination_blob_path):\n",
    "    \"\"\"Uploads a file and logs status.\"\"\"\n",
    "    client = storage.Client()\n",
    "    bucket = client.bucket(bucket_name)\n",
    "    blob = bucket.blob(destination_blob_path)\n",
    "\n",
    "    try:\n",
    "        blob.upload_from_filename(local_file_path)\n",
    "        log_message = f\"✅ SUCCESS: {local_file_path} --> gs://{bucket_name}/{destination_blob_path}\"\n",
    "        print(log_message)\n",
    "        logging.info(log_message)\n",
    "    except Exception as e:\n",
    "        log_message = f\"❌ FAILED: {local_file_path} - Error: {str(e)}\"\n",
    "        print(log_message)\n",
    "        logging.error(log_message)\n"
   ]
  },
  {
   "cell_type": "code",
   "execution_count": null,
   "id": "12f365b5-d621-4c28-a0c4-4fe554668518",
   "metadata": {},
   "outputs": [],
   "source": []
  }
 ],
 "metadata": {
  "kernelspec": {
   "display_name": "Python 3 (ipykernel)",
   "language": "python",
   "name": "python3"
  },
  "language_info": {
   "codemirror_mode": {
    "name": "ipython",
    "version": 3
   },
   "file_extension": ".py",
   "mimetype": "text/x-python",
   "name": "python",
   "nbconvert_exporter": "python",
   "pygments_lexer": "ipython3",
   "version": "3.12.4"
  }
 },
 "nbformat": 4,
 "nbformat_minor": 5
}
