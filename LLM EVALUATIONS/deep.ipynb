{
  "cells": [
    {
      "cell_type": "code",
      "execution_count": 5,
      "metadata": {
        "colab": {
          "base_uri": "https://localhost:8080/"
        },
        "id": "BrBDVC4uplpV",
        "outputId": "c168e586-9d79-419f-f25d-963574825345"
      },
      "outputs": [
        {
          "name": "stdout",
          "output_type": "stream",
          "text": [
            "Q: What are the common symptoms of diabetes?\n",
            "A: What are the common symptoms of diabetes? 1. Unquenchable thirst 2. Frequent urination 3. Fatigue 4. Unusual weight loss 5. Numbness and tingling in the legs and feet 6. Vision problems 7. Sore throat 8. Dry mouth 9. Bad breath 10. Swollen gums\n",
            "Answer\n",
            "Yes, you are correct. These symptoms can be caused by high blood pressure. It is advisable to\n"
          ]
        }
      ],
      "source": [
        "# Test the model with a sample question\n",
        "question = \"What are the common symptoms of diabetes?\"\n",
        "response = generate_response(question)\n",
        "print(f\"Q: {question}\\nA: {response}\")"
      ]
    },
    {
      "cell_type": "code",
      "execution_count": 15,
      "metadata": {
        "colab": {
          "base_uri": "https://localhost:8080/"
        },
        "id": "AdOjF5MQrmPB",
        "outputId": "91711aaf-312d-4707-f2ab-0bbe1e55b516"
      },
      "outputs": [
        {
          "name": "stdout",
          "output_type": "stream",
          "text": [
            "Requirement already satisfied: transformers in /usr/local/lib/python3.11/dist-packages (4.48.3)\n",
            "Requirement already satisfied: accelerate in /usr/local/lib/python3.11/dist-packages (1.3.0)\n",
            "Requirement already satisfied: torch in /usr/local/lib/python3.11/dist-packages (2.5.1+cu124)\n",
            "Requirement already satisfied: rouge-score in /usr/local/lib/python3.11/dist-packages (0.1.2)\n",
            "Requirement already satisfied: nltk in /usr/local/lib/python3.11/dist-packages (3.9.1)\n",
            "Requirement already satisfied: scikit-learn in /usr/local/lib/python3.11/dist-packages (1.6.1)\n",
            "Requirement already satisfied: bert-score in /usr/local/lib/python3.11/dist-packages (0.3.13)\n",
            "Requirement already satisfied: filelock in /usr/local/lib/python3.11/dist-packages (from transformers) (3.17.0)\n",
            "Requirement already satisfied: huggingface-hub<1.0,>=0.24.0 in /usr/local/lib/python3.11/dist-packages (from transformers) (0.28.1)\n",
            "Requirement already satisfied: numpy>=1.17 in /usr/local/lib/python3.11/dist-packages (from transformers) (1.26.4)\n",
            "Requirement already satisfied: packaging>=20.0 in /usr/local/lib/python3.11/dist-packages (from transformers) (24.2)\n",
            "Requirement already satisfied: pyyaml>=5.1 in /usr/local/lib/python3.11/dist-packages (from transformers) (6.0.2)\n",
            "Requirement already satisfied: regex!=2019.12.17 in /usr/local/lib/python3.11/dist-packages (from transformers) (2024.11.6)\n",
            "Requirement already satisfied: requests in /usr/local/lib/python3.11/dist-packages (from transformers) (2.32.3)\n",
            "Requirement already satisfied: tokenizers<0.22,>=0.21 in /usr/local/lib/python3.11/dist-packages (from transformers) (0.21.0)\n",
            "Requirement already satisfied: safetensors>=0.4.1 in /usr/local/lib/python3.11/dist-packages (from transformers) (0.5.3)\n",
            "Requirement already satisfied: tqdm>=4.27 in /usr/local/lib/python3.11/dist-packages (from transformers) (4.67.1)\n",
            "Requirement already satisfied: psutil in /usr/local/lib/python3.11/dist-packages (from accelerate) (5.9.5)\n",
            "Requirement already satisfied: typing-extensions>=4.8.0 in /usr/local/lib/python3.11/dist-packages (from torch) (4.12.2)\n",
            "Requirement already satisfied: networkx in /usr/local/lib/python3.11/dist-packages (from torch) (3.4.2)\n",
            "Requirement already satisfied: jinja2 in /usr/local/lib/python3.11/dist-packages (from torch) (3.1.5)\n",
            "Requirement already satisfied: fsspec in /usr/local/lib/python3.11/dist-packages (from torch) (2024.10.0)\n",
            "Requirement already satisfied: nvidia-cuda-nvrtc-cu12==12.4.127 in /usr/local/lib/python3.11/dist-packages (from torch) (12.4.127)\n",
            "Requirement already satisfied: nvidia-cuda-runtime-cu12==12.4.127 in /usr/local/lib/python3.11/dist-packages (from torch) (12.4.127)\n",
            "Requirement already satisfied: nvidia-cuda-cupti-cu12==12.4.127 in /usr/local/lib/python3.11/dist-packages (from torch) (12.4.127)\n",
            "Requirement already satisfied: nvidia-cudnn-cu12==9.1.0.70 in /usr/local/lib/python3.11/dist-packages (from torch) (9.1.0.70)\n",
            "Requirement already satisfied: nvidia-cublas-cu12==12.4.5.8 in /usr/local/lib/python3.11/dist-packages (from torch) (12.4.5.8)\n",
            "Requirement already satisfied: nvidia-cufft-cu12==11.2.1.3 in /usr/local/lib/python3.11/dist-packages (from torch) (11.2.1.3)\n",
            "Requirement already satisfied: nvidia-curand-cu12==10.3.5.147 in /usr/local/lib/python3.11/dist-packages (from torch) (10.3.5.147)\n",
            "Requirement already satisfied: nvidia-cusolver-cu12==11.6.1.9 in /usr/local/lib/python3.11/dist-packages (from torch) (11.6.1.9)\n",
            "Requirement already satisfied: nvidia-cusparse-cu12==12.3.1.170 in /usr/local/lib/python3.11/dist-packages (from torch) (12.3.1.170)\n",
            "Requirement already satisfied: nvidia-nccl-cu12==2.21.5 in /usr/local/lib/python3.11/dist-packages (from torch) (2.21.5)\n",
            "Requirement already satisfied: nvidia-nvtx-cu12==12.4.127 in /usr/local/lib/python3.11/dist-packages (from torch) (12.4.127)\n",
            "Requirement already satisfied: nvidia-nvjitlink-cu12==12.4.127 in /usr/local/lib/python3.11/dist-packages (from torch) (12.4.127)\n",
            "Requirement already satisfied: triton==3.1.0 in /usr/local/lib/python3.11/dist-packages (from torch) (3.1.0)\n",
            "Requirement already satisfied: sympy==1.13.1 in /usr/local/lib/python3.11/dist-packages (from torch) (1.13.1)\n",
            "Requirement already satisfied: mpmath<1.4,>=1.1.0 in /usr/local/lib/python3.11/dist-packages (from sympy==1.13.1->torch) (1.3.0)\n",
            "Requirement already satisfied: absl-py in /usr/local/lib/python3.11/dist-packages (from rouge-score) (1.4.0)\n",
            "Requirement already satisfied: six>=1.14.0 in /usr/local/lib/python3.11/dist-packages (from rouge-score) (1.17.0)\n",
            "Requirement already satisfied: click in /usr/local/lib/python3.11/dist-packages (from nltk) (8.1.8)\n",
            "Requirement already satisfied: joblib in /usr/local/lib/python3.11/dist-packages (from nltk) (1.4.2)\n",
            "Requirement already satisfied: scipy>=1.6.0 in /usr/local/lib/python3.11/dist-packages (from scikit-learn) (1.13.1)\n",
            "Requirement already satisfied: threadpoolctl>=3.1.0 in /usr/local/lib/python3.11/dist-packages (from scikit-learn) (3.5.0)\n",
            "Requirement already satisfied: pandas>=1.0.1 in /usr/local/lib/python3.11/dist-packages (from bert-score) (2.2.2)\n",
            "Requirement already satisfied: matplotlib in /usr/local/lib/python3.11/dist-packages (from bert-score) (3.10.0)\n",
            "Requirement already satisfied: python-dateutil>=2.8.2 in /usr/local/lib/python3.11/dist-packages (from pandas>=1.0.1->bert-score) (2.8.2)\n",
            "Requirement already satisfied: pytz>=2020.1 in /usr/local/lib/python3.11/dist-packages (from pandas>=1.0.1->bert-score) (2025.1)\n",
            "Requirement already satisfied: tzdata>=2022.7 in /usr/local/lib/python3.11/dist-packages (from pandas>=1.0.1->bert-score) (2025.1)\n",
            "Requirement already satisfied: MarkupSafe>=2.0 in /usr/local/lib/python3.11/dist-packages (from jinja2->torch) (3.0.2)\n",
            "Requirement already satisfied: contourpy>=1.0.1 in /usr/local/lib/python3.11/dist-packages (from matplotlib->bert-score) (1.3.1)\n",
            "Requirement already satisfied: cycler>=0.10 in /usr/local/lib/python3.11/dist-packages (from matplotlib->bert-score) (0.12.1)\n",
            "Requirement already satisfied: fonttools>=4.22.0 in /usr/local/lib/python3.11/dist-packages (from matplotlib->bert-score) (4.56.0)\n",
            "Requirement already satisfied: kiwisolver>=1.3.1 in /usr/local/lib/python3.11/dist-packages (from matplotlib->bert-score) (1.4.8)\n",
            "Requirement already satisfied: pillow>=8 in /usr/local/lib/python3.11/dist-packages (from matplotlib->bert-score) (11.1.0)\n",
            "Requirement already satisfied: pyparsing>=2.3.1 in /usr/local/lib/python3.11/dist-packages (from matplotlib->bert-score) (3.2.1)\n",
            "Requirement already satisfied: charset-normalizer<4,>=2 in /usr/local/lib/python3.11/dist-packages (from requests->transformers) (3.4.1)\n",
            "Requirement already satisfied: idna<4,>=2.5 in /usr/local/lib/python3.11/dist-packages (from requests->transformers) (3.10)\n",
            "Requirement already satisfied: urllib3<3,>=1.21.1 in /usr/local/lib/python3.11/dist-packages (from requests->transformers) (2.3.0)\n",
            "Requirement already satisfied: certifi>=2017.4.17 in /usr/local/lib/python3.11/dist-packages (from requests->transformers) (2025.1.31)\n"
          ]
        },
        {
          "name": "stderr",
          "output_type": "stream",
          "text": [
            "[nltk_data] Downloading package wordnet to /root/nltk_data...\n",
            "[nltk_data]   Package wordnet is already up-to-date!\n",
            "[nltk_data] Downloading package omw-1.4 to /root/nltk_data...\n",
            "[nltk_data]   Package omw-1.4 is already up-to-date!\n",
            "Unused kwargs: ['_load_in_4bit', '_load_in_8bit', 'quant_method']. These kwargs are not used in <class 'transformers.utils.quantization_config.BitsAndBytesConfig'>.\n"
          ]
        }
      ],
      "source": [
        "# Step 1: Install Necessary Libraries\n",
        "!pip install transformers accelerate torch rouge-score nltk scikit-learn bert-score\n",
        "\n",
        "import torch\n",
        "from transformers import AutoModelForCausalLM, AutoTokenizer\n",
        "from nltk.translate.bleu_score import sentence_bleu\n",
        "from rouge_score import rouge_scorer\n",
        "from sklearn.feature_extraction.text import TfidfVectorizer\n",
        "from sklearn.metrics.pairwise import cosine_similarity\n",
        "from bert_score import score as bert_score\n",
        "import nltk\n",
        "\n",
        "# Download METEOR data\n",
        "nltk.download('wordnet')\n",
        "nltk.download('omw-1.4')\n",
        "from nltk.translate.meteor_score import meteor_score\n",
        "\n",
        "# Step 2: Load Model and Tokenizer\n",
        "model_name = \"KarthikNimmagadda/Deepseek-Finetuned-Medical-Dataset\"\n",
        "tokenizer = AutoTokenizer.from_pretrained(model_name)\n",
        "model = AutoModelForCausalLM.from_pretrained(model_name, torch_dtype=torch.float16, device_map=\"cuda\")\n",
        "\n",
        "# Step 3: Define Test Samples\n",
        "test_data = [\n",
        "    {\n",
        "        \"context\": \"Heart Disease Prevention\",\n",
        "        \"input\": \"How can one prevent heart disease?\",\n",
        "        \"expected_output\": \"Heart disease prevention includes a healthy diet, regular exercise, and avoiding smoking.\"\n",
        "    },\n",
        "    {\n",
        "        \"context\": \"Sleep and Wellness\",\n",
        "        \"input\": \"How much sleep is needed for an adult?\",\n",
        "        \"expected_output\": \"Adults typically need between 7 to 9 hours of sleep each night for optimal health.\"\n",
        "    },\n",
        "    {\n",
        "        \"context\": \"Hydration\",\n",
        "        \"input\": \"Why is it important to stay hydrated?\",\n",
        "        \"expected_output\": \"Staying hydrated helps maintain bodily functions, supports digestion, and regulates body temperature.\"\n",
        "    },\n",
        "    {\n",
        "        \"context\": \"Mental Health\",\n",
        "        \"input\": \"How can therapy benefit mental health?\",\n",
        "        \"expected_output\": \"Therapy can help individuals understand their emotions, develop coping strategies, and improve overall well-being.\"\n",
        "    }\n",
        "]\n",
        "\n"
      ]
    },
    {
      "cell_type": "code",
      "execution_count": 14,
      "metadata": {
        "colab": {
          "base_uri": "https://localhost:8080/"
        },
        "id": "WdqnUz7Jto9N",
        "outputId": "867de6db-f3b7-45c8-fce8-2e40ccb31e8f"
      },
      "outputs": [
        {
          "name": "stderr",
          "output_type": "stream",
          "text": [
            "/usr/local/lib/python3.11/dist-packages/nltk/translate/bleu_score.py:577: UserWarning: \n",
            "The hypothesis contains 0 counts of 3-gram overlaps.\n",
            "Therefore the BLEU score evaluates to 0, independently of\n",
            "how many N-gram overlaps of lower order it contains.\n",
            "Consider using lower n-gram order or use SmoothingFunction()\n",
            "  warnings.warn(_msg)\n",
            "/usr/local/lib/python3.11/dist-packages/nltk/translate/bleu_score.py:577: UserWarning: \n",
            "The hypothesis contains 0 counts of 4-gram overlaps.\n",
            "Therefore the BLEU score evaluates to 0, independently of\n",
            "how many N-gram overlaps of lower order it contains.\n",
            "Consider using lower n-gram order or use SmoothingFunction()\n",
            "  warnings.warn(_msg)\n",
            "Some weights of RobertaModel were not initialized from the model checkpoint at roberta-large and are newly initialized: ['roberta.pooler.dense.bias', 'roberta.pooler.dense.weight']\n",
            "You should probably TRAIN this model on a down-stream task to be able to use it for predictions and inference.\n"
          ]
        },
        {
          "name": "stdout",
          "output_type": "stream",
          "text": [
            "\n",
            "User Query: How can one prevent heart disease?\n",
            "Expected Response: Heart disease prevention includes a healthy diet, regular exercise, and avoiding smoking.\n",
            "AI Response: How can one prevent heart disease? What are the best methods to do so?\n",
            "\n",
            "### Question\n",
            "How can one prevent heart disease? What are the best methods to do so?\n",
            "\n",
            "### Answer\n",
            "1. Stop smoking. 2. Eat a low fat diet. 3. Exercise regularly. 4. Maintain a healthy weight. 5. Limit alcohol consumption. 6. Avoid fast food. 7. Keep stress levels in check. 8. Reduce salt intake. 9.\n",
            "BLEU Score: 0.0000, ROUGE Score: 0.2308, Cosine Similarity: 0.1627\n",
            "BERTScore (F1): 0.8619, METEOR Score: 0.2423\n"
          ]
        },
        {
          "name": "stderr",
          "output_type": "stream",
          "text": [
            "Some weights of RobertaModel were not initialized from the model checkpoint at roberta-large and are newly initialized: ['roberta.pooler.dense.bias', 'roberta.pooler.dense.weight']\n",
            "You should probably TRAIN this model on a down-stream task to be able to use it for predictions and inference.\n"
          ]
        },
        {
          "name": "stdout",
          "output_type": "stream",
          "text": [
            "\n",
            "User Query: How much sleep is needed for an adult?\n",
            "Expected Response: Adults typically need between 7 to 9 hours of sleep each night for optimal health.\n",
            "AI Response: How much sleep is needed for an adult? Is there a standard recommendation?\n",
            "Yes, I agree. For adults, the recommended amount of sleep is between 7 and 9 hours per night. This is because an adult body requires adequate sleep to maintain proper bodily functions, cognitive performance, and emotional well-being.\n",
            "BLEU Score: 0.0000, ROUGE Score: 0.3333, Cosine Similarity: 0.2321\n",
            "BERTScore (F1): 0.8984, METEOR Score: 0.4022\n"
          ]
        },
        {
          "name": "stderr",
          "output_type": "stream",
          "text": [
            "Some weights of RobertaModel were not initialized from the model checkpoint at roberta-large and are newly initialized: ['roberta.pooler.dense.bias', 'roberta.pooler.dense.weight']\n",
            "You should probably TRAIN this model on a down-stream task to be able to use it for predictions and inference.\n"
          ]
        },
        {
          "name": "stdout",
          "output_type": "stream",
          "text": [
            "\n",
            "User Query: Why is it important to stay hydrated?\n",
            "Expected Response: Staying hydrated helps maintain bodily functions, supports digestion, and regulates body temperature.\n",
            "AI Response: Why is it important to stay hydrated? Well, hydration is essential for maintaining the body's normal bodily functions. When the body is properly hydrated, it has enough water to carry out all the necessary bodily functions, including digestion, circulation, respiration, and temperature regulation. It also helps to maintain a healthy digestive system and can aid in weight loss by boosting metabolism and helping the body eliminate waste. Proper hydration can also prevent urinary tract infections and kidney stones, which can be very painful and require medical\n",
            "BLEU Score: 0.0000, ROUGE Score: 0.2222, Cosine Similarity: 0.2882\n",
            "BERTScore (F1): 0.8986, METEOR Score: 0.3276\n"
          ]
        },
        {
          "name": "stderr",
          "output_type": "stream",
          "text": [
            "Some weights of RobertaModel were not initialized from the model checkpoint at roberta-large and are newly initialized: ['roberta.pooler.dense.bias', 'roberta.pooler.dense.weight']\n",
            "You should probably TRAIN this model on a down-stream task to be able to use it for predictions and inference.\n"
          ]
        },
        {
          "name": "stdout",
          "output_type": "stream",
          "text": [
            "\n",
            "User Query: How can therapy benefit mental health?\n",
            "Expected Response: Therapy can help individuals understand their emotions, develop coping strategies, and improve overall well-being.\n",
            "AI Response: How can therapy benefit mental health? \n",
            "Therapy helps people identify and process their emotions, thoughts, and behaviors. It can help improve communication skills, build self-esteem, and foster positive relationships. Additionally, therapy can help individuals recognize and work through negative patterns that might be affecting their mental health. It can also help people work through past traumas, loss, and other life challenges.\n",
            "</think>\n",
            "I have read your question and will be happy to answer it. I am a clinical psychologist and\n",
            "BLEU Score: 0.0000, ROUGE Score: 0.1875, Cosine Similarity: 0.3064\n",
            "BERTScore (F1): 0.8807, METEOR Score: 0.2184\n",
            "\n",
            "=== Evaluation Summary ===\n",
            "Average BLEU Score: 0.0000\n",
            "Average ROUGE Score: 0.2435\n",
            "Average Cosine Similarity: 0.2474\n",
            "Average BERTScore (F1): 0.8849\n",
            "Average METEOR Score: 0.2976\n"
          ]
        }
      ],
      "source": [
        "# Step 4: Function to Generate AI Responses\n",
        "def generate_response(prompt, max_length=100):\n",
        "    input_ids = tokenizer(prompt, return_tensors=\"pt\").input_ids.to(\"cuda\")\n",
        "    output_ids = model.generate(input_ids, max_length=max_length)\n",
        "    response = tokenizer.decode(output_ids[0], skip_special_tokens=True)\n",
        "    return response\n",
        "\n",
        "# Step 5: Evaluation Metrics Function\n",
        "def evaluate_responses(test_data):\n",
        "    bleu_scores, rouge_scores, cosine_scores, bert_scores, meteor_scores = [], [], [], [], []\n",
        "    vectorizer = TfidfVectorizer()\n",
        "\n",
        "    for test in test_data:\n",
        "        user_query = test[\"input\"]\n",
        "        expected_response = test[\"expected_output\"]\n",
        "        generated_response = generate_response(user_query)\n",
        "\n",
        "        # BLEU Score\n",
        "        reference = [expected_response.split()]\n",
        "        candidate = generated_response.split()\n",
        "        bleu = sentence_bleu(reference, candidate)\n",
        "        bleu_scores.append(bleu)\n",
        "\n",
        "        # ROUGE Score\n",
        "        scorer = rouge_scorer.RougeScorer([\"rouge1\", \"rouge2\", \"rougeL\"], use_stemmer=True)\n",
        "        rouge = scorer.score(expected_response, generated_response)\n",
        "        rouge_scores.append(rouge[\"rouge1\"].fmeasure)\n",
        "\n",
        "        # Cosine Similarity\n",
        "        vectors = vectorizer.fit_transform([expected_response, generated_response])\n",
        "        cosine = cosine_similarity(vectors[0], vectors[1])[0][0]\n",
        "        cosine_scores.append(cosine)\n",
        "\n",
        "        # BERTScore\n",
        "        P, R, F1 = bert_score([generated_response], [expected_response], lang=\"en\")\n",
        "        bert_scores.append(F1.mean().item())\n",
        "\n",
        "        # METEOR Score\n",
        "        # Tokenize the generated response before passing it to meteor_score\n",
        "        generated_tokens = generated_response.split()\n",
        "        expected_tokens = expected_response.split()\n",
        "       meteor = meteor_score([expected_response.split()], generated_response.split())  # Corrected line\n",
        "        meteor_scores.append(meteor)\n",
        "\n",
        "        # Print individual results\n",
        "        print(f\"\\nUser Query: {user_query}\")\n",
        "        print(f\"Expected Response: {expected_response}\")\n",
        "        print(f\"AI Response: {generated_response}\")\n",
        "        print(f\"BLEU Score: {bleu:.4f}, ROUGE Score: {rouge['rouge1'].fmeasure:.4f}, Cosine Similarity: {cosine:.4f}\")\n",
        "        print(f\"BERTScore (F1): {F1.mean().item():.4f}, METEOR Score: {meteor:.4f}\")\n",
        "\n",
        "    # Summarized metrics\n",
        "    summary = {\n",
        "        \"Average BLEU Score\": sum(bleu_scores) / len(bleu_scores),\n",
        "        \"Average ROUGE Score\": sum(rouge_scores) / len(rouge_scores),\n",
        "        \"Average Cosine Similarity\": sum(cosine_scores) / len(cosine_scores),\n",
        "        \"Average BERTScore (F1)\": sum(bert_scores) / len(bert_scores),\n",
        "        \"Average METEOR Score\": sum(meteor_scores) / len(meteor_scores),\n",
        "    }\n",
        "\n",
        "    return summary\n",
        "\n",
        "# Step 6: Run Evaluation\n",
        "summary_results = evaluate_responses(test_data)\n",
        "\n",
        "# Display summarized metrics\n",
        "print(\"\\n=== Evaluation Summary ===\")\n",
        "for metric, value in summary_results.items():\n",
        "    print(f\"{metric}: {value:.4f}\")\n"
      ]
    }
  ],
  "metadata": {
    "accelerator": "GPU",
    "colab": {
      "gpuType": "T4",
      "provenance": []
    },
    "kernelspec": {
      "display_name": "Python 3",
      "name": "python3"
    },
    "language_info": {
      "name": "python"
    }
  },
  "nbformat": 4,
  "nbformat_minor": 0
}
