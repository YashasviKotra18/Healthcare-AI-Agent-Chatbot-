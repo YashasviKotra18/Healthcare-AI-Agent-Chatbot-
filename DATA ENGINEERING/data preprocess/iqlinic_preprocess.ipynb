{
 "cells": [
  {
   "cell_type": "code",
   "execution_count": 1,
   "id": "bcae9823-3f20-4f2d-89d5-e20d9c999b4a",
   "metadata": {},
   "outputs": [],
   "source": [
    "import pandas as pd\n",
    "\n",
    "# Load the dataset\n",
    "df = pd.read_csv('DATASET/chunks/icliniq_chunk_90.csv')\n"
   ]
  },
  {
   "cell_type": "code",
   "execution_count": 2,
   "id": "6865035a-5a36-4d08-81f0-8b7fd2b28ba7",
   "metadata": {},
   "outputs": [
    {
     "data": {
      "text/html": [
       "<div>\n",
       "<style scoped>\n",
       "    .dataframe tbody tr th:only-of-type {\n",
       "        vertical-align: middle;\n",
       "    }\n",
       "\n",
       "    .dataframe tbody tr th {\n",
       "        vertical-align: top;\n",
       "    }\n",
       "\n",
       "    .dataframe thead th {\n",
       "        text-align: right;\n",
       "    }\n",
       "</style>\n",
       "<table border=\"1\" class=\"dataframe\">\n",
       "  <thead>\n",
       "    <tr style=\"text-align: right;\">\n",
       "      <th></th>\n",
       "      <th>Title</th>\n",
       "      <th>Question</th>\n",
       "      <th>Answer</th>\n",
       "    </tr>\n",
       "  </thead>\n",
       "  <tbody>\n",
       "    <tr>\n",
       "      <th>0</th>\n",
       "      <td>Is it normal to have bleeding 8 days after tak...</td>\n",
       "      <td>I had periods on 26th and had protected sex on...</td>\n",
       "      <td>It is a withdrawal bleeding after i-pill. As y...</td>\n",
       "    </tr>\n",
       "    <tr>\n",
       "      <th>1</th>\n",
       "      <td>What is the cause of fluid-filled bumps on my ...</td>\n",
       "      <td>I had these fluid-filled hard bumps on my scro...</td>\n",
       "      <td>I understand your concern. The image you have ...</td>\n",
       "    </tr>\n",
       "    <tr>\n",
       "      <th>2</th>\n",
       "      <td>How to overcome past experiences and suicidal ...</td>\n",
       "      <td>I am getting terrible anxiety at the thought o...</td>\n",
       "      <td>I have read your query, and I feel that your h...</td>\n",
       "    </tr>\n",
       "    <tr>\n",
       "      <th>3</th>\n",
       "      <td>Are my hormonal issues related to obesity?</td>\n",
       "      <td>I am 29 years old, five feet five inches tall,...</td>\n",
       "      <td>Hello, Welcome to iCliniq.com I read your quer...</td>\n",
       "    </tr>\n",
       "    <tr>\n",
       "      <th>4</th>\n",
       "      <td>Is it advisable to take Duphaston for ovarian ...</td>\n",
       "      <td>Today, I had an appointment with a doctor. It ...</td>\n",
       "      <td>It would be better if you could send me your d...</td>\n",
       "    </tr>\n",
       "  </tbody>\n",
       "</table>\n",
       "</div>"
      ],
      "text/plain": [
       "                                               Title  \\\n",
       "0  Is it normal to have bleeding 8 days after tak...   \n",
       "1  What is the cause of fluid-filled bumps on my ...   \n",
       "2  How to overcome past experiences and suicidal ...   \n",
       "3         Are my hormonal issues related to obesity?   \n",
       "4  Is it advisable to take Duphaston for ovarian ...   \n",
       "\n",
       "                                            Question  \\\n",
       "0  I had periods on 26th and had protected sex on...   \n",
       "1  I had these fluid-filled hard bumps on my scro...   \n",
       "2  I am getting terrible anxiety at the thought o...   \n",
       "3  I am 29 years old, five feet five inches tall,...   \n",
       "4  Today, I had an appointment with a doctor. It ...   \n",
       "\n",
       "                                              Answer  \n",
       "0  It is a withdrawal bleeding after i-pill. As y...  \n",
       "1  I understand your concern. The image you have ...  \n",
       "2  I have read your query, and I feel that your h...  \n",
       "3  Hello, Welcome to iCliniq.com I read your quer...  \n",
       "4  It would be better if you could send me your d...  "
      ]
     },
     "execution_count": 2,
     "metadata": {},
     "output_type": "execute_result"
    }
   ],
   "source": [
    "df.head(5)"
   ]
  },
  {
   "cell_type": "code",
   "execution_count": 3,
   "id": "03ba2520-bce7-4d98-a02a-888d57421256",
   "metadata": {},
   "outputs": [
    {
     "name": "stdout",
     "output_type": "stream",
     "text": [
      "Shape of the dataset: (17833, 3)\n",
      "\n",
      "Data Types:\n",
      " Title       object\n",
      "Question    object\n",
      "Answer      object\n",
      "dtype: object\n"
     ]
    }
   ],
   "source": [
    "# Basic information about the dataset\n",
    "print(\"Shape of the dataset:\", df.shape)\n",
    "print(\"\\nData Types:\\n\", df.dtypes)\n"
   ]
  },
  {
   "cell_type": "code",
   "execution_count": 4,
   "id": "9c2eea32-3e28-4cb5-b12a-c73309624986",
   "metadata": {},
   "outputs": [
    {
     "name": "stdout",
     "output_type": "stream",
     "text": [
      "\n",
      "Missing Values:\n",
      " Title       0\n",
      "Question    0\n",
      "Answer      0\n",
      "dtype: int64\n"
     ]
    }
   ],
   "source": [
    "\n",
    "# Checking for missing values\n",
    "missing_values = df.isnull().sum()\n",
    "print(\"\\nMissing Values:\\n\", missing_values)\n"
   ]
  },
  {
   "cell_type": "code",
   "execution_count": 5,
   "id": "4cb131ea-de4f-45f2-9a75-9e303cc1e746",
   "metadata": {},
   "outputs": [
    {
     "data": {
      "text/html": [
       "<div>\n",
       "<style scoped>\n",
       "    .dataframe tbody tr th:only-of-type {\n",
       "        vertical-align: middle;\n",
       "    }\n",
       "\n",
       "    .dataframe tbody tr th {\n",
       "        vertical-align: top;\n",
       "    }\n",
       "\n",
       "    .dataframe thead th {\n",
       "        text-align: right;\n",
       "    }\n",
       "</style>\n",
       "<table border=\"1\" class=\"dataframe\">\n",
       "  <thead>\n",
       "    <tr style=\"text-align: right;\">\n",
       "      <th></th>\n",
       "      <th>Title_Length</th>\n",
       "      <th>Question_Length</th>\n",
       "      <th>Answer_Length</th>\n",
       "    </tr>\n",
       "  </thead>\n",
       "  <tbody>\n",
       "    <tr>\n",
       "      <th>count</th>\n",
       "      <td>17833.000000</td>\n",
       "      <td>17833.000000</td>\n",
       "      <td>17833.000000</td>\n",
       "    </tr>\n",
       "    <tr>\n",
       "      <th>mean</th>\n",
       "      <td>67.179443</td>\n",
       "      <td>509.072226</td>\n",
       "      <td>814.066001</td>\n",
       "    </tr>\n",
       "    <tr>\n",
       "      <th>std</th>\n",
       "      <td>19.638823</td>\n",
       "      <td>447.184443</td>\n",
       "      <td>526.604068</td>\n",
       "    </tr>\n",
       "    <tr>\n",
       "      <th>min</th>\n",
       "      <td>16.000000</td>\n",
       "      <td>13.000000</td>\n",
       "      <td>10.000000</td>\n",
       "    </tr>\n",
       "    <tr>\n",
       "      <th>25%</th>\n",
       "      <td>53.000000</td>\n",
       "      <td>231.000000</td>\n",
       "      <td>495.000000</td>\n",
       "    </tr>\n",
       "    <tr>\n",
       "      <th>50%</th>\n",
       "      <td>66.000000</td>\n",
       "      <td>386.000000</td>\n",
       "      <td>700.000000</td>\n",
       "    </tr>\n",
       "    <tr>\n",
       "      <th>75%</th>\n",
       "      <td>81.000000</td>\n",
       "      <td>631.000000</td>\n",
       "      <td>994.000000</td>\n",
       "    </tr>\n",
       "    <tr>\n",
       "      <th>max</th>\n",
       "      <td>165.000000</td>\n",
       "      <td>11162.000000</td>\n",
       "      <td>12615.000000</td>\n",
       "    </tr>\n",
       "  </tbody>\n",
       "</table>\n",
       "</div>"
      ],
      "text/plain": [
       "       Title_Length  Question_Length  Answer_Length\n",
       "count  17833.000000     17833.000000   17833.000000\n",
       "mean      67.179443       509.072226     814.066001\n",
       "std       19.638823       447.184443     526.604068\n",
       "min       16.000000        13.000000      10.000000\n",
       "25%       53.000000       231.000000     495.000000\n",
       "50%       66.000000       386.000000     700.000000\n",
       "75%       81.000000       631.000000     994.000000\n",
       "max      165.000000     11162.000000   12615.000000"
      ]
     },
     "execution_count": 5,
     "metadata": {},
     "output_type": "execute_result"
    }
   ],
   "source": [
    "# Calculate the length of each text entry without adding columns\n",
    "title_lengths = df['Title'].apply(len)\n",
    "question_lengths = df['Question'].apply(len)\n",
    "answer_lengths = df['Answer'].apply(len)\n",
    "\n",
    "# Create a DataFrame for descriptive statistics\n",
    "lengths_df = pd.DataFrame({\n",
    "    'Title_Length': title_lengths,\n",
    "    'Question_Length': question_lengths,\n",
    "    'Answer_Length': answer_lengths\n",
    "})\n",
    "\n",
    "# Descriptive statistics\n",
    "descriptive_stats = lengths_df.describe()\n",
    "descriptive_stats"
   ]
  },
  {
   "cell_type": "code",
   "execution_count": 6,
   "id": "704fefb9-e88f-4cd7-832c-03f341e1c8a3",
   "metadata": {},
   "outputs": [
    {
     "name": "stderr",
     "output_type": "stream",
     "text": [
      "[nltk_data] Downloading package stopwords to\n",
      "[nltk_data]     /Users/shrinivas/nltk_data...\n",
      "[nltk_data]   Package stopwords is already up-to-date!\n"
     ]
    }
   ],
   "source": [
    "import re\n",
    "import nltk\n",
    "\n",
    "nltk.download('stopwords')\n",
    "from nltk.corpus import stopwords\n",
    "\n",
    "# Function to clean text\n",
    "def data_preprocess(text):\n",
    "    # Lowercase\n",
    "    text = text.lower()\n",
    "    # Remove special characters and numbers\n",
    "    text = re.sub(r'[^a-z\\s]', '', text)\n",
    "    # Remove extra whitespace\n",
    "    text = re.sub(r'\\s+', ' ', text).strip()\n",
    "    return text\n",
    "\n",
    "# Apply cleaning to each relevant column\n",
    "for column in ['Title', 'Question', 'Answer']:\n",
    "    df[column] = df[column].apply(data_preprocess)\n",
    "\n"
   ]
  },
  {
   "cell_type": "code",
   "execution_count": 7,
   "id": "ebe61769-e850-4ea9-837f-4430600a9290",
   "metadata": {},
   "outputs": [
    {
     "name": "stdout",
     "output_type": "stream",
     "text": [
      "Pre-process Data:\n"
     ]
    }
   ],
   "source": [
    "# Display Pre-process data\n",
    "print(\"Pre-process Data:\")\n"
   ]
  },
  {
   "cell_type": "code",
   "execution_count": 8,
   "id": "cf311373-f756-4d29-865e-915e05c6acfa",
   "metadata": {},
   "outputs": [
    {
     "data": {
      "text/html": [
       "<div>\n",
       "<style scoped>\n",
       "    .dataframe tbody tr th:only-of-type {\n",
       "        vertical-align: middle;\n",
       "    }\n",
       "\n",
       "    .dataframe tbody tr th {\n",
       "        vertical-align: top;\n",
       "    }\n",
       "\n",
       "    .dataframe thead th {\n",
       "        text-align: right;\n",
       "    }\n",
       "</style>\n",
       "<table border=\"1\" class=\"dataframe\">\n",
       "  <thead>\n",
       "    <tr style=\"text-align: right;\">\n",
       "      <th></th>\n",
       "      <th>Title</th>\n",
       "      <th>Question</th>\n",
       "      <th>Answer</th>\n",
       "    </tr>\n",
       "  </thead>\n",
       "  <tbody>\n",
       "    <tr>\n",
       "      <th>0</th>\n",
       "      <td>is it normal to have bleeding days after takin...</td>\n",
       "      <td>i had periods on th and had protected sex on t...</td>\n",
       "      <td>it is a withdrawal bleeding after ipill as you...</td>\n",
       "    </tr>\n",
       "    <tr>\n",
       "      <th>1</th>\n",
       "      <td>what is the cause of fluidfilled bumps on my s...</td>\n",
       "      <td>i had these fluidfilled hard bumps on my scrot...</td>\n",
       "      <td>i understand your concern the image you have s...</td>\n",
       "    </tr>\n",
       "    <tr>\n",
       "      <th>2</th>\n",
       "      <td>how to overcome past experiences and suicidal ...</td>\n",
       "      <td>i am getting terrible anxiety at the thought o...</td>\n",
       "      <td>i have read your query and i feel that your hi...</td>\n",
       "    </tr>\n",
       "    <tr>\n",
       "      <th>3</th>\n",
       "      <td>are my hormonal issues related to obesity</td>\n",
       "      <td>i am years old five feet five inches tall and ...</td>\n",
       "      <td>hello welcome to icliniqcom i read your query ...</td>\n",
       "    </tr>\n",
       "    <tr>\n",
       "      <th>4</th>\n",
       "      <td>is it advisable to take duphaston for ovarian ...</td>\n",
       "      <td>today i had an appointment with a doctor it lo...</td>\n",
       "      <td>it would be better if you could send me your d...</td>\n",
       "    </tr>\n",
       "  </tbody>\n",
       "</table>\n",
       "</div>"
      ],
      "text/plain": [
       "                                               Title  \\\n",
       "0  is it normal to have bleeding days after takin...   \n",
       "1  what is the cause of fluidfilled bumps on my s...   \n",
       "2  how to overcome past experiences and suicidal ...   \n",
       "3          are my hormonal issues related to obesity   \n",
       "4  is it advisable to take duphaston for ovarian ...   \n",
       "\n",
       "                                            Question  \\\n",
       "0  i had periods on th and had protected sex on t...   \n",
       "1  i had these fluidfilled hard bumps on my scrot...   \n",
       "2  i am getting terrible anxiety at the thought o...   \n",
       "3  i am years old five feet five inches tall and ...   \n",
       "4  today i had an appointment with a doctor it lo...   \n",
       "\n",
       "                                              Answer  \n",
       "0  it is a withdrawal bleeding after ipill as you...  \n",
       "1  i understand your concern the image you have s...  \n",
       "2  i have read your query and i feel that your hi...  \n",
       "3  hello welcome to icliniqcom i read your query ...  \n",
       "4  it would be better if you could send me your d...  "
      ]
     },
     "execution_count": 8,
     "metadata": {},
     "output_type": "execute_result"
    }
   ],
   "source": [
    "df.head(5)\n"
   ]
  },
  {
   "cell_type": "code",
   "execution_count": 9,
   "id": "fccb671b-56f2-4bf8-b836-794923d3d964",
   "metadata": {},
   "outputs": [],
   "source": [
    "df.to_csv('iqlinic_preprocess.csv', index=False)\n"
   ]
  }
 ],
 "metadata": {
  "kernelspec": {
   "display_name": "Python 3 (ipykernel)",
   "language": "python",
   "name": "python3"
  },
  "language_info": {
   "codemirror_mode": {
    "name": "ipython",
    "version": 3
   },
   "file_extension": ".py",
   "mimetype": "text/x-python",
   "name": "python",
   "nbconvert_exporter": "python",
   "pygments_lexer": "ipython3",
   "version": "3.12.4"
  }
 },
 "nbformat": 4,
 "nbformat_minor": 5
}
