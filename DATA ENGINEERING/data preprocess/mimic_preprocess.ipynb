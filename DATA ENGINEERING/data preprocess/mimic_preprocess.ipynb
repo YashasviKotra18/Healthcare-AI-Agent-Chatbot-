{
 "cells": [
  {
   "cell_type": "code",
   "execution_count": 1,
   "id": "bcae9823-3f20-4f2d-89d5-e20d9c999b4a",
   "metadata": {},
   "outputs": [],
   "source": [
    "import pandas as pd\n",
    "\n",
    "# Load the dataset\n",
    "df = pd.read_csv('mimic.csv')\n"
   ]
  },
  {
   "cell_type": "code",
   "execution_count": 3,
   "id": "03ba2520-bce7-4d98-a02a-888d57421256",
   "metadata": {},
   "outputs": [
    {
     "name": "stdout",
     "output_type": "stream",
     "text": [
      "Shape of the dataset: (167034, 10)\n",
      "\n",
      "Data Types:\n",
      " patient_id            int64\n",
      "patient_uid          object\n",
      "PMID                  int64\n",
      "file_path            object\n",
      "title                object\n",
      "patient              object\n",
      "age                  object\n",
      "gender               object\n",
      "relevant_articles    object\n",
      "similar_patients     object\n",
      "dtype: object\n"
     ]
    }
   ],
   "source": [
    "# Basic information about the dataset\n",
    "print(\"Shape of the dataset:\", df.shape)\n",
    "print(\"\\nData Types:\\n\", df.dtypes)\n"
   ]
  },
  {
   "cell_type": "code",
   "execution_count": 4,
   "id": "9c2eea32-3e28-4cb5-b12a-c73309624986",
   "metadata": {},
   "outputs": [
    {
     "name": "stdout",
     "output_type": "stream",
     "text": [
      "\n",
      "Missing Values:\n",
      " patient_id           0\n",
      "patient_uid          0\n",
      "PMID                 0\n",
      "file_path            0\n",
      "title                0\n",
      "patient              0\n",
      "age                  0\n",
      "gender               0\n",
      "relevant_articles    0\n",
      "similar_patients     0\n",
      "dtype: int64\n"
     ]
    }
   ],
   "source": [
    "\n",
    "# Checking for missing values\n",
    "missing_values = df.isnull().sum()\n",
    "print(\"\\nMissing Values:\\n\", missing_values)\n"
   ]
  },
  {
   "cell_type": "code",
   "execution_count": 5,
   "id": "4cb131ea-de4f-45f2-9a75-9e303cc1e746",
   "metadata": {},
   "outputs": [
    {
     "data": {
      "text/html": [
       "<div>\n",
       "<style scoped>\n",
       "    .dataframe tbody tr th:only-of-type {\n",
       "        vertical-align: middle;\n",
       "    }\n",
       "\n",
       "    .dataframe tbody tr th {\n",
       "        vertical-align: top;\n",
       "    }\n",
       "\n",
       "    .dataframe thead th {\n",
       "        text-align: right;\n",
       "    }\n",
       "</style>\n",
       "<table border=\"1\" class=\"dataframe\">\n",
       "  <thead>\n",
       "    <tr style=\"text-align: right;\">\n",
       "      <th></th>\n",
       "      <th>Title_Length</th>\n",
       "      <th>patient_info_Length</th>\n",
       "    </tr>\n",
       "  </thead>\n",
       "  <tbody>\n",
       "    <tr>\n",
       "      <th>count</th>\n",
       "      <td>167034.000000</td>\n",
       "      <td>167034.000000</td>\n",
       "    </tr>\n",
       "    <tr>\n",
       "      <th>mean</th>\n",
       "      <td>96.153071</td>\n",
       "      <td>2765.333022</td>\n",
       "    </tr>\n",
       "    <tr>\n",
       "      <th>std</th>\n",
       "      <td>34.584621</td>\n",
       "      <td>1659.310912</td>\n",
       "    </tr>\n",
       "    <tr>\n",
       "      <th>min</th>\n",
       "      <td>7.000000</td>\n",
       "      <td>55.000000</td>\n",
       "    </tr>\n",
       "    <tr>\n",
       "      <th>25%</th>\n",
       "      <td>71.000000</td>\n",
       "      <td>1645.000000</td>\n",
       "    </tr>\n",
       "    <tr>\n",
       "      <th>50%</th>\n",
       "      <td>92.000000</td>\n",
       "      <td>2491.000000</td>\n",
       "    </tr>\n",
       "    <tr>\n",
       "      <th>75%</th>\n",
       "      <td>117.000000</td>\n",
       "      <td>3529.000000</td>\n",
       "    </tr>\n",
       "    <tr>\n",
       "      <th>max</th>\n",
       "      <td>377.000000</td>\n",
       "      <td>95400.000000</td>\n",
       "    </tr>\n",
       "  </tbody>\n",
       "</table>\n",
       "</div>"
      ],
      "text/plain": [
       "        Title_Length  patient_info_Length\n",
       "count  167034.000000        167034.000000\n",
       "mean       96.153071          2765.333022\n",
       "std        34.584621          1659.310912\n",
       "min         7.000000            55.000000\n",
       "25%        71.000000          1645.000000\n",
       "50%        92.000000          2491.000000\n",
       "75%       117.000000          3529.000000\n",
       "max       377.000000         95400.000000"
      ]
     },
     "execution_count": 5,
     "metadata": {},
     "output_type": "execute_result"
    }
   ],
   "source": [
    "# Calculate the length of each text entry without adding columns\n",
    "title_lengths = df['title'].apply(len)\n",
    "question_lengths = df['patient'].apply(len)\n",
    "\n",
    "# Create a DataFrame for descriptive statistics\n",
    "lengths_df = pd.DataFrame({\n",
    "    'Title_Length': title_lengths,\n",
    "    'patient_info_Length': question_lengths,\n",
    "})\n",
    "\n",
    "# Descriptive statistics\n",
    "descriptive_stats = lengths_df.describe()\n",
    "descriptive_stats"
   ]
  },
  {
   "cell_type": "code",
   "execution_count": 6,
   "id": "704fefb9-e88f-4cd7-832c-03f341e1c8a3",
   "metadata": {},
   "outputs": [
    {
     "name": "stderr",
     "output_type": "stream",
     "text": [
      "[nltk_data] Downloading package stopwords to\n",
      "[nltk_data]     /Users/shrinivas/nltk_data...\n",
      "[nltk_data]   Package stopwords is already up-to-date!\n"
     ]
    }
   ],
   "source": [
    "import re\n",
    "import nltk\n",
    "\n",
    "nltk.download('stopwords')\n",
    "from nltk.corpus import stopwords\n",
    "\n",
    "# Function to clean text\n",
    "def data_preprocess(text):\n",
    "    # Lowercase\n",
    "    text = text.lower()\n",
    "    # Remove special characters and numbers\n",
    "    text = re.sub(r'[^a-z\\s]', '', text)\n",
    "    # Remove extra whitespace\n",
    "    text = re.sub(r'\\s+', ' ', text).strip()\n",
    "    return text\n",
    "\n",
    "# Apply cleaning to each relevant column\n",
    "for column in ['title', 'patient']:\n",
    "    df[column] = df[column].apply(data_preprocess)\n",
    "\n"
   ]
  },
  {
   "cell_type": "code",
   "execution_count": 7,
   "id": "ebe61769-e850-4ea9-837f-4430600a9290",
   "metadata": {},
   "outputs": [
    {
     "name": "stdout",
     "output_type": "stream",
     "text": [
      "Pre-process Data:\n"
     ]
    }
   ],
   "source": [
    "# Display Pre-process data\n",
    "print(\"Pre-process Data:\")\n"
   ]
  },
  {
   "cell_type": "code",
   "execution_count": 8,
   "id": "cf311373-f756-4d29-865e-915e05c6acfa",
   "metadata": {},
   "outputs": [
    {
     "data": {
      "text/html": [
       "<div>\n",
       "<style scoped>\n",
       "    .dataframe tbody tr th:only-of-type {\n",
       "        vertical-align: middle;\n",
       "    }\n",
       "\n",
       "    .dataframe tbody tr th {\n",
       "        vertical-align: top;\n",
       "    }\n",
       "\n",
       "    .dataframe thead th {\n",
       "        text-align: right;\n",
       "    }\n",
       "</style>\n",
       "<table border=\"1\" class=\"dataframe\">\n",
       "  <thead>\n",
       "    <tr style=\"text-align: right;\">\n",
       "      <th></th>\n",
       "      <th>title</th>\n",
       "      <th>patient</th>\n",
       "      <th>age</th>\n",
       "      <th>gender</th>\n",
       "    </tr>\n",
       "  </thead>\n",
       "  <tbody>\n",
       "    <tr>\n",
       "      <th>0</th>\n",
       "      <td>early physical therapist interventions for pat...</td>\n",
       "      <td>this yearold male was hospitalized due to mode...</td>\n",
       "      <td>[[60.0, 'year']]</td>\n",
       "      <td>M</td>\n",
       "    </tr>\n",
       "    <tr>\n",
       "      <th>1</th>\n",
       "      <td>early physical therapist interventions for pat...</td>\n",
       "      <td>a yearold man was hospitalized due to an incre...</td>\n",
       "      <td>[[39.0, 'year']]</td>\n",
       "      <td>M</td>\n",
       "    </tr>\n",
       "    <tr>\n",
       "      <th>2</th>\n",
       "      <td>early physical therapist interventions for pat...</td>\n",
       "      <td>one week after a positive covid result this ye...</td>\n",
       "      <td>[[57.0, 'year']]</td>\n",
       "      <td>M</td>\n",
       "    </tr>\n",
       "    <tr>\n",
       "      <th>3</th>\n",
       "      <td>early physical therapist interventions for pat...</td>\n",
       "      <td>this yearold male was admitted to the icu afte...</td>\n",
       "      <td>[[69.0, 'year']]</td>\n",
       "      <td>M</td>\n",
       "    </tr>\n",
       "    <tr>\n",
       "      <th>4</th>\n",
       "      <td>early physical therapist interventions for pat...</td>\n",
       "      <td>this yearold male was admitted to the icu with...</td>\n",
       "      <td>[[57.0, 'year']]</td>\n",
       "      <td>M</td>\n",
       "    </tr>\n",
       "  </tbody>\n",
       "</table>\n",
       "</div>"
      ],
      "text/plain": [
       "                                               title  \\\n",
       "0  early physical therapist interventions for pat...   \n",
       "1  early physical therapist interventions for pat...   \n",
       "2  early physical therapist interventions for pat...   \n",
       "3  early physical therapist interventions for pat...   \n",
       "4  early physical therapist interventions for pat...   \n",
       "\n",
       "                                             patient               age gender  \n",
       "0  this yearold male was hospitalized due to mode...  [[60.0, 'year']]      M  \n",
       "1  a yearold man was hospitalized due to an incre...  [[39.0, 'year']]      M  \n",
       "2  one week after a positive covid result this ye...  [[57.0, 'year']]      M  \n",
       "3  this yearold male was admitted to the icu afte...  [[69.0, 'year']]      M  \n",
       "4  this yearold male was admitted to the icu with...  [[57.0, 'year']]      M  "
      ]
     },
     "execution_count": 8,
     "metadata": {},
     "output_type": "execute_result"
    }
   ],
   "source": [
    "df[['title','patient','age','gender']].head(5)\n"
   ]
  },
  {
   "cell_type": "code",
   "execution_count": 9,
   "id": "fccb671b-56f2-4bf8-b836-794923d3d964",
   "metadata": {},
   "outputs": [],
   "source": [
    "df.to_csv('mimic_preprocess.csv', columns=['title','patient','age','gender'], index=False)"
   ]
  },
  {
   "cell_type": "code",
   "execution_count": null,
   "id": "6bf2229d-6cc3-428f-ab26-135b053a666c",
   "metadata": {},
   "outputs": [],
   "source": []
  }
 ],
 "metadata": {
  "kernelspec": {
   "display_name": "Python 3 (ipykernel)",
   "language": "python",
   "name": "python3"
  },
  "language_info": {
   "codemirror_mode": {
    "name": "ipython",
    "version": 3
   },
   "file_extension": ".py",
   "mimetype": "text/x-python",
   "name": "python",
   "nbconvert_exporter": "python",
   "pygments_lexer": "ipython3",
   "version": "3.12.4"
  }
 },
 "nbformat": 4,
 "nbformat_minor": 5
}
