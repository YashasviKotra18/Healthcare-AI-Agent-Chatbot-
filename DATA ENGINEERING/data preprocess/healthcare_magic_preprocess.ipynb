{
 "cells": [
  {
   "cell_type": "code",
   "execution_count": 2,
   "id": "bcae9823-3f20-4f2d-89d5-e20d9c999b4a",
   "metadata": {},
   "outputs": [],
   "source": [
    "import pandas as pd\n",
    "\n",
    "# Load the dataset\n",
    "json_file_path = 'DATASET/chunks/HealthCareMagic_chunk_90.json'\n",
    "df = pd.read_json(json_file_path, lines=True)"
   ]
  },
  {
   "cell_type": "code",
   "execution_count": 3,
   "id": "6865035a-5a36-4d08-81f0-8b7fd2b28ba7",
   "metadata": {},
   "outputs": [
    {
     "data": {
      "text/html": [
       "<div>\n",
       "<style scoped>\n",
       "    .dataframe tbody tr th:only-of-type {\n",
       "        vertical-align: middle;\n",
       "    }\n",
       "\n",
       "    .dataframe tbody tr th {\n",
       "        vertical-align: top;\n",
       "    }\n",
       "\n",
       "    .dataframe thead th {\n",
       "        text-align: right;\n",
       "    }\n",
       "</style>\n",
       "<table border=\"1\" class=\"dataframe\">\n",
       "  <thead>\n",
       "    <tr style=\"text-align: right;\">\n",
       "      <th></th>\n",
       "      <th>instruction</th>\n",
       "      <th>input</th>\n",
       "      <th>output</th>\n",
       "    </tr>\n",
       "  </thead>\n",
       "  <tbody>\n",
       "    <tr>\n",
       "      <th>0</th>\n",
       "      <td>If you are a doctor, please answer the medical...</td>\n",
       "      <td>I wake in the night, usually about 2-3 hours a...</td>\n",
       "      <td>Dear patient Here are the possibilities of wha...</td>\n",
       "    </tr>\n",
       "    <tr>\n",
       "      <th>1</th>\n",
       "      <td>If you are a doctor, please answer the medical...</td>\n",
       "      <td>Honorable Sir,I am Ripon Dev from Bangladesh.M...</td>\n",
       "      <td>Hi, Thanks for writing in. Please add detailed...</td>\n",
       "    </tr>\n",
       "    <tr>\n",
       "      <th>2</th>\n",
       "      <td>If you are a doctor, please answer the medical...</td>\n",
       "      <td>Ive had a cold which started on Christmas eve ...</td>\n",
       "      <td>Hi, Welcome to Chat Doctor! Yes, from what you...</td>\n",
       "    </tr>\n",
       "    <tr>\n",
       "      <th>3</th>\n",
       "      <td>If you are a doctor, please answer the medical...</td>\n",
       "      <td>I had cervical laminectomy surgery for spinal ...</td>\n",
       "      <td>Thanks for writing to us. You have complex sto...</td>\n",
       "    </tr>\n",
       "    <tr>\n",
       "      <th>4</th>\n",
       "      <td>If you are a doctor, please answer the medical...</td>\n",
       "      <td>Hello, At the end of lacrosse practice about a...</td>\n",
       "      <td>Dear List, I believe you may have suffered a m...</td>\n",
       "    </tr>\n",
       "  </tbody>\n",
       "</table>\n",
       "</div>"
      ],
      "text/plain": [
       "                                         instruction  \\\n",
       "0  If you are a doctor, please answer the medical...   \n",
       "1  If you are a doctor, please answer the medical...   \n",
       "2  If you are a doctor, please answer the medical...   \n",
       "3  If you are a doctor, please answer the medical...   \n",
       "4  If you are a doctor, please answer the medical...   \n",
       "\n",
       "                                               input  \\\n",
       "0  I wake in the night, usually about 2-3 hours a...   \n",
       "1  Honorable Sir,I am Ripon Dev from Bangladesh.M...   \n",
       "2  Ive had a cold which started on Christmas eve ...   \n",
       "3  I had cervical laminectomy surgery for spinal ...   \n",
       "4  Hello, At the end of lacrosse practice about a...   \n",
       "\n",
       "                                              output  \n",
       "0  Dear patient Here are the possibilities of wha...  \n",
       "1  Hi, Thanks for writing in. Please add detailed...  \n",
       "2  Hi, Welcome to Chat Doctor! Yes, from what you...  \n",
       "3  Thanks for writing to us. You have complex sto...  \n",
       "4  Dear List, I believe you may have suffered a m...  "
      ]
     },
     "execution_count": 3,
     "metadata": {},
     "output_type": "execute_result"
    }
   ],
   "source": [
    "df.head(5)"
   ]
  },
  {
   "cell_type": "code",
   "execution_count": 4,
   "id": "03ba2520-bce7-4d98-a02a-888d57421256",
   "metadata": {},
   "outputs": [
    {
     "name": "stdout",
     "output_type": "stream",
     "text": [
      "Shape of the dataset: (100948, 3)\n",
      "\n",
      "Data Types:\n",
      " instruction    object\n",
      "input          object\n",
      "output         object\n",
      "dtype: object\n"
     ]
    }
   ],
   "source": [
    "# Basic information about the dataset\n",
    "print(\"Shape of the dataset:\", df.shape)\n",
    "print(\"\\nData Types:\\n\", df.dtypes)\n"
   ]
  },
  {
   "cell_type": "code",
   "execution_count": 5,
   "id": "9c2eea32-3e28-4cb5-b12a-c73309624986",
   "metadata": {},
   "outputs": [
    {
     "name": "stdout",
     "output_type": "stream",
     "text": [
      "\n",
      "Missing Values:\n",
      " instruction    0\n",
      "input          0\n",
      "output         0\n",
      "dtype: int64\n"
     ]
    }
   ],
   "source": [
    "\n",
    "# Checking for missing values\n",
    "missing_values = df.isnull().sum()\n",
    "print(\"\\nMissing Values:\\n\", missing_values)\n"
   ]
  },
  {
   "cell_type": "code",
   "execution_count": 6,
   "id": "4cb131ea-de4f-45f2-9a75-9e303cc1e746",
   "metadata": {},
   "outputs": [
    {
     "data": {
      "text/html": [
       "<div>\n",
       "<style scoped>\n",
       "    .dataframe tbody tr th:only-of-type {\n",
       "        vertical-align: middle;\n",
       "    }\n",
       "\n",
       "    .dataframe tbody tr th {\n",
       "        vertical-align: top;\n",
       "    }\n",
       "\n",
       "    .dataframe thead th {\n",
       "        text-align: right;\n",
       "    }\n",
       "</style>\n",
       "<table border=\"1\" class=\"dataframe\">\n",
       "  <thead>\n",
       "    <tr style=\"text-align: right;\">\n",
       "      <th></th>\n",
       "      <th>instruction_Length</th>\n",
       "      <th>input_Length</th>\n",
       "      <th>output_Length</th>\n",
       "    </tr>\n",
       "  </thead>\n",
       "  <tbody>\n",
       "    <tr>\n",
       "      <th>count</th>\n",
       "      <td>100948.0</td>\n",
       "      <td>100948.000000</td>\n",
       "      <td>100948.000000</td>\n",
       "    </tr>\n",
       "    <tr>\n",
       "      <th>mean</th>\n",
       "      <td>92.0</td>\n",
       "      <td>437.792012</td>\n",
       "      <td>649.771655</td>\n",
       "    </tr>\n",
       "    <tr>\n",
       "      <th>std</th>\n",
       "      <td>0.0</td>\n",
       "      <td>261.792975</td>\n",
       "      <td>239.223395</td>\n",
       "    </tr>\n",
       "    <tr>\n",
       "      <th>min</th>\n",
       "      <td>92.0</td>\n",
       "      <td>0.000000</td>\n",
       "      <td>401.000000</td>\n",
       "    </tr>\n",
       "    <tr>\n",
       "      <th>25%</th>\n",
       "      <td>92.0</td>\n",
       "      <td>291.000000</td>\n",
       "      <td>483.000000</td>\n",
       "    </tr>\n",
       "    <tr>\n",
       "      <th>50%</th>\n",
       "      <td>92.0</td>\n",
       "      <td>359.000000</td>\n",
       "      <td>585.000000</td>\n",
       "    </tr>\n",
       "    <tr>\n",
       "      <th>75%</th>\n",
       "      <td>92.0</td>\n",
       "      <td>491.000000</td>\n",
       "      <td>743.000000</td>\n",
       "    </tr>\n",
       "    <tr>\n",
       "      <th>max</th>\n",
       "      <td>92.0</td>\n",
       "      <td>11188.000000</td>\n",
       "      <td>3442.000000</td>\n",
       "    </tr>\n",
       "  </tbody>\n",
       "</table>\n",
       "</div>"
      ],
      "text/plain": [
       "       instruction_Length   input_Length  output_Length\n",
       "count            100948.0  100948.000000  100948.000000\n",
       "mean                 92.0     437.792012     649.771655\n",
       "std                   0.0     261.792975     239.223395\n",
       "min                  92.0       0.000000     401.000000\n",
       "25%                  92.0     291.000000     483.000000\n",
       "50%                  92.0     359.000000     585.000000\n",
       "75%                  92.0     491.000000     743.000000\n",
       "max                  92.0   11188.000000    3442.000000"
      ]
     },
     "execution_count": 6,
     "metadata": {},
     "output_type": "execute_result"
    }
   ],
   "source": [
    "# Calculate the length of each text entry without adding columns\n",
    "title_lengths = df['instruction'].apply(len)\n",
    "question_lengths = df['input'].apply(len)\n",
    "answer_lengths = df['output'].apply(len)\n",
    "\n",
    "# Create a DataFrame for descriptive statistics\n",
    "lengths_df = pd.DataFrame({\n",
    "    'instruction_Length': title_lengths,\n",
    "    'input_Length': question_lengths,\n",
    "    'output_Length': answer_lengths\n",
    "})\n",
    "\n",
    "# Descriptive statistics\n",
    "descriptive_stats = lengths_df.describe()\n",
    "descriptive_stats"
   ]
  },
  {
   "cell_type": "code",
   "execution_count": 7,
   "id": "704fefb9-e88f-4cd7-832c-03f341e1c8a3",
   "metadata": {},
   "outputs": [
    {
     "name": "stderr",
     "output_type": "stream",
     "text": [
      "[nltk_data] Downloading package stopwords to\n",
      "[nltk_data]     /Users/shrinivas/nltk_data...\n",
      "[nltk_data]   Package stopwords is already up-to-date!\n"
     ]
    }
   ],
   "source": [
    "import re\n",
    "import nltk\n",
    "\n",
    "nltk.download('stopwords')\n",
    "from nltk.corpus import stopwords\n",
    "\n",
    "# Function to clean text\n",
    "def data_preprocess(text):\n",
    "    # Lowercase\n",
    "    text = text.lower()\n",
    "    # Remove special characters and numbers\n",
    "    text = re.sub(r'[^a-z\\s]', '', text)\n",
    "    # Remove extra whitespace\n",
    "    text = re.sub(r'\\s+', ' ', text).strip()\n",
    "    return text\n",
    "\n",
    "# Apply cleaning to each relevant column\n",
    "for column in ['instruction', 'input', 'output']:\n",
    "    df[column] = df[column].apply(data_preprocess)\n",
    "\n"
   ]
  },
  {
   "cell_type": "code",
   "execution_count": 8,
   "id": "ebe61769-e850-4ea9-837f-4430600a9290",
   "metadata": {},
   "outputs": [
    {
     "name": "stdout",
     "output_type": "stream",
     "text": [
      "Pre-process Data:\n"
     ]
    }
   ],
   "source": [
    "# Display Pre-process data\n",
    "print(\"Pre-process Data:\")\n"
   ]
  },
  {
   "cell_type": "code",
   "execution_count": 9,
   "id": "cf311373-f756-4d29-865e-915e05c6acfa",
   "metadata": {},
   "outputs": [
    {
     "data": {
      "text/html": [
       "<div>\n",
       "<style scoped>\n",
       "    .dataframe tbody tr th:only-of-type {\n",
       "        vertical-align: middle;\n",
       "    }\n",
       "\n",
       "    .dataframe tbody tr th {\n",
       "        vertical-align: top;\n",
       "    }\n",
       "\n",
       "    .dataframe thead th {\n",
       "        text-align: right;\n",
       "    }\n",
       "</style>\n",
       "<table border=\"1\" class=\"dataframe\">\n",
       "  <thead>\n",
       "    <tr style=\"text-align: right;\">\n",
       "      <th></th>\n",
       "      <th>instruction</th>\n",
       "      <th>input</th>\n",
       "      <th>output</th>\n",
       "    </tr>\n",
       "  </thead>\n",
       "  <tbody>\n",
       "    <tr>\n",
       "      <th>0</th>\n",
       "      <td>if you are a doctor please answer the medical ...</td>\n",
       "      <td>i wake in the night usually about hours after ...</td>\n",
       "      <td>dear patient here are the possibilities of wha...</td>\n",
       "    </tr>\n",
       "    <tr>\n",
       "      <th>1</th>\n",
       "      <td>if you are a doctor please answer the medical ...</td>\n",
       "      <td>honorable siri am ripon dev from bangladeshmy ...</td>\n",
       "      <td>hi thanks for writing in please add detailed i...</td>\n",
       "    </tr>\n",
       "    <tr>\n",
       "      <th>2</th>\n",
       "      <td>if you are a doctor please answer the medical ...</td>\n",
       "      <td>ive had a cold which started on christmas eve ...</td>\n",
       "      <td>hi welcome to chat doctor yes from what you ha...</td>\n",
       "    </tr>\n",
       "    <tr>\n",
       "      <th>3</th>\n",
       "      <td>if you are a doctor please answer the medical ...</td>\n",
       "      <td>i had cervical laminectomy surgery for spinal ...</td>\n",
       "      <td>thanks for writing to us you have complex stor...</td>\n",
       "    </tr>\n",
       "    <tr>\n",
       "      <th>4</th>\n",
       "      <td>if you are a doctor please answer the medical ...</td>\n",
       "      <td>hello at the end of lacrosse practice about a ...</td>\n",
       "      <td>dear list i believe you may have suffered a mu...</td>\n",
       "    </tr>\n",
       "  </tbody>\n",
       "</table>\n",
       "</div>"
      ],
      "text/plain": [
       "                                         instruction  \\\n",
       "0  if you are a doctor please answer the medical ...   \n",
       "1  if you are a doctor please answer the medical ...   \n",
       "2  if you are a doctor please answer the medical ...   \n",
       "3  if you are a doctor please answer the medical ...   \n",
       "4  if you are a doctor please answer the medical ...   \n",
       "\n",
       "                                               input  \\\n",
       "0  i wake in the night usually about hours after ...   \n",
       "1  honorable siri am ripon dev from bangladeshmy ...   \n",
       "2  ive had a cold which started on christmas eve ...   \n",
       "3  i had cervical laminectomy surgery for spinal ...   \n",
       "4  hello at the end of lacrosse practice about a ...   \n",
       "\n",
       "                                              output  \n",
       "0  dear patient here are the possibilities of wha...  \n",
       "1  hi thanks for writing in please add detailed i...  \n",
       "2  hi welcome to chat doctor yes from what you ha...  \n",
       "3  thanks for writing to us you have complex stor...  \n",
       "4  dear list i believe you may have suffered a mu...  "
      ]
     },
     "execution_count": 9,
     "metadata": {},
     "output_type": "execute_result"
    }
   ],
   "source": [
    "df.head(5)\n"
   ]
  },
  {
   "cell_type": "code",
   "execution_count": 10,
   "id": "fccb671b-56f2-4bf8-b836-794923d3d964",
   "metadata": {},
   "outputs": [],
   "source": [
    "df.to_csv('HealthCareMagic_preprocess.csv', index=False)\n"
   ]
  }
 ],
 "metadata": {
  "kernelspec": {
   "display_name": "Python 3 (ipykernel)",
   "language": "python",
   "name": "python3"
  },
  "language_info": {
   "codemirror_mode": {
    "name": "ipython",
    "version": 3
   },
   "file_extension": ".py",
   "mimetype": "text/x-python",
   "name": "python",
   "nbconvert_exporter": "python",
   "pygments_lexer": "ipython3",
   "version": "3.12.4"
  }
 },
 "nbformat": 4,
 "nbformat_minor": 5
}
